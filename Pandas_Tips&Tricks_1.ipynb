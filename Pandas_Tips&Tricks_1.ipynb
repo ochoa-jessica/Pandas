{
 "cells": [
  {
   "cell_type": "markdown",
   "id": "d4ddc250-51ce-4606-956c-20fb26936b1b",
   "metadata": {},
   "source": [
    "### Create a new column from mulitple columns in your dataframe\n",
    "1. **df** is your dataframe\n",
    "2. **row** will correspond to each row in your data frame\n",
    "3. **func** is the function you want to apply to your data frame\n",
    "4. **axis**=1 to apply the function to each row in your data frame\n",
    "\n",
    "**apply** and **lambda** can help you eaily apply whatever logic to your columns using the following format :\n",
    "\n",
    "**df[new_col] = df.apply(lambda row: func(row), axis=1)**"
   ]
  },
  {
   "cell_type": "code",
   "execution_count": null,
   "id": "e64d058d-8204-47dd-9b8e-b0e673701e85",
   "metadata": {},
   "outputs": [],
   "source": [
    "!pip install pandas --upgrade"
   ]
  },
  {
   "cell_type": "code",
   "execution_count": 196,
   "id": "a04fda70-2d7f-4791-a04d-a9be66dbe7bc",
   "metadata": {},
   "outputs": [],
   "source": [
    "import pandas as pd"
   ]
  },
  {
   "cell_type": "code",
   "execution_count": 197,
   "id": "f9e3071e-3da2-42c5-9c24-db0ce25c0370",
   "metadata": {},
   "outputs": [],
   "source": [
    "# Create the dataframe\n",
    "candidates = {\n",
    "    'Name':[\"Emily\",\"Lucas\",\"Camile\",\"Gabriel\",\"Steven\"],\n",
    "    'Degree':['Master','Master','Bachelor','PhD','Master'],\n",
    "    'From':['Arizona','Chicago','San Franciso','New York','Ohio'],\n",
    "    'Years_exp':[2,3,5,6,0],\n",
    "    'From_office(min)':[120,80,65,100,30]\n",
    "}\n",
    "\n",
    "candidates_df = pd.DataFrame(candidates)"
   ]
  },
  {
   "cell_type": "code",
   "execution_count": 198,
   "id": "b2277a4b-10e3-4bd5-8372-44d5971314cf",
   "metadata": {},
   "outputs": [],
   "source": [
    "# Custom Function\n",
    "# candidate_info() combines each candidate's information\n",
    "# to create a single description column about that candidate\n",
    "def candidate_info(row):\n",
    "    # Select columns of interest\n",
    "    name = row.Name\n",
    "    is_from = row.From\n",
    "    year_exp = row.Years_exp\n",
    "    degree = row.Degree\n",
    "    from_office = row[\"From_office(min)\"]\n",
    "    \n",
    "    # Generate the description from previous variables\n",
    "    info = f\"\"\"{name} from {is_from} holds a {degree} degree \n",
    "           with {year_exp} year(s) experience and lives \n",
    "           {from_office} from the office\"\"\"\n",
    "    return info"
   ]
  },
  {
   "cell_type": "code",
   "execution_count": 199,
   "id": "60a07fc6-19c8-4d91-ae13-7b05fd86d2d4",
   "metadata": {},
   "outputs": [],
   "source": [
    "# Application of the above function to the data \n",
    "candidates_df[\"Description\"] = candidates_df.apply(lambda row: candidate_info(row), axis=1)"
   ]
  },
  {
   "cell_type": "code",
   "execution_count": 200,
   "id": "7b6c9299-b370-40fc-a2a1-589908f3c6e6",
   "metadata": {},
   "outputs": [
    {
     "data": {
      "text/html": [
       "<div>\n",
       "<style scoped>\n",
       "    .dataframe tbody tr th:only-of-type {\n",
       "        vertical-align: middle;\n",
       "    }\n",
       "\n",
       "    .dataframe tbody tr th {\n",
       "        vertical-align: top;\n",
       "    }\n",
       "\n",
       "    .dataframe thead th {\n",
       "        text-align: right;\n",
       "    }\n",
       "</style>\n",
       "<table border=\"1\" class=\"dataframe\">\n",
       "  <thead>\n",
       "    <tr style=\"text-align: right;\">\n",
       "      <th></th>\n",
       "      <th>Name</th>\n",
       "      <th>Degree</th>\n",
       "      <th>From</th>\n",
       "      <th>Years_exp</th>\n",
       "      <th>From_office(min)</th>\n",
       "      <th>Description</th>\n",
       "    </tr>\n",
       "  </thead>\n",
       "  <tbody>\n",
       "    <tr>\n",
       "      <th>0</th>\n",
       "      <td>Emily</td>\n",
       "      <td>Master</td>\n",
       "      <td>Arizona</td>\n",
       "      <td>2</td>\n",
       "      <td>120</td>\n",
       "      <td>Emily from Arizona holds a Master degree \\n   ...</td>\n",
       "    </tr>\n",
       "    <tr>\n",
       "      <th>1</th>\n",
       "      <td>Lucas</td>\n",
       "      <td>Master</td>\n",
       "      <td>Chicago</td>\n",
       "      <td>3</td>\n",
       "      <td>80</td>\n",
       "      <td>Lucas from Chicago holds a Master degree \\n   ...</td>\n",
       "    </tr>\n",
       "    <tr>\n",
       "      <th>2</th>\n",
       "      <td>Camile</td>\n",
       "      <td>Bachelor</td>\n",
       "      <td>San Franciso</td>\n",
       "      <td>5</td>\n",
       "      <td>65</td>\n",
       "      <td>Camile from San Franciso holds a Bachelor degr...</td>\n",
       "    </tr>\n",
       "    <tr>\n",
       "      <th>3</th>\n",
       "      <td>Gabriel</td>\n",
       "      <td>PhD</td>\n",
       "      <td>New York</td>\n",
       "      <td>6</td>\n",
       "      <td>100</td>\n",
       "      <td>Gabriel from New York holds a PhD degree \\n   ...</td>\n",
       "    </tr>\n",
       "    <tr>\n",
       "      <th>4</th>\n",
       "      <td>Steven</td>\n",
       "      <td>Master</td>\n",
       "      <td>Ohio</td>\n",
       "      <td>0</td>\n",
       "      <td>30</td>\n",
       "      <td>Steven from Ohio holds a Master degree \\n     ...</td>\n",
       "    </tr>\n",
       "  </tbody>\n",
       "</table>\n",
       "</div>"
      ],
      "text/plain": [
       "      Name    Degree          From  Years_exp  From_office(min)  \\\n",
       "0    Emily    Master       Arizona          2               120   \n",
       "1    Lucas    Master       Chicago          3                80   \n",
       "2   Camile  Bachelor  San Franciso          5                65   \n",
       "3  Gabriel       PhD      New York          6               100   \n",
       "4   Steven    Master          Ohio          0                30   \n",
       "\n",
       "                                         Description  \n",
       "0  Emily from Arizona holds a Master degree \\n   ...  \n",
       "1  Lucas from Chicago holds a Master degree \\n   ...  \n",
       "2  Camile from San Franciso holds a Bachelor degr...  \n",
       "3  Gabriel from New York holds a PhD degree \\n   ...  \n",
       "4  Steven from Ohio holds a Master degree \\n     ...  "
      ]
     },
     "execution_count": 200,
     "metadata": {},
     "output_type": "execute_result"
    }
   ],
   "source": [
    "candidates_df"
   ]
  },
  {
   "cell_type": "markdown",
   "id": "d85dff45-bef9-4869-a2f8-0b16746a3d6f",
   "metadata": {},
   "source": [
    "### Convert categorical data into numerical ones\n",
    "<p>This processs mainly occurs in feature engineering phase. Some of its benefits are : </p>\n",
    "\n",
    "1. The identification of outliers, invalid, and missing values in data.\n",
    "\n",
    "2. Reduction of the chance of overfitting by creating more robust models."
   ]
  },
  {
   "cell_type": "markdown",
   "id": "dd53428c-b5f1-42c4-b138-91f906753814",
   "metadata": {},
   "source": [
    "**.cut**() to specifically define your bin edges"
   ]
  },
  {
   "cell_type": "code",
   "execution_count": 201,
   "id": "a1360457-7c1c-46b2-913a-45ba73f785d1",
   "metadata": {},
   "outputs": [
    {
     "data": {
      "text/html": [
       "<div>\n",
       "<style scoped>\n",
       "    .dataframe tbody tr th:only-of-type {\n",
       "        vertical-align: middle;\n",
       "    }\n",
       "\n",
       "    .dataframe tbody tr th {\n",
       "        vertical-align: top;\n",
       "    }\n",
       "\n",
       "    .dataframe thead th {\n",
       "        text-align: right;\n",
       "    }\n",
       "</style>\n",
       "<table border=\"1\" class=\"dataframe\">\n",
       "  <thead>\n",
       "    <tr style=\"text-align: right;\">\n",
       "      <th></th>\n",
       "      <th>Name</th>\n",
       "      <th>Degree</th>\n",
       "      <th>From</th>\n",
       "      <th>Years_exp</th>\n",
       "      <th>From_office(min)</th>\n",
       "      <th>Description</th>\n",
       "      <th>Seniority</th>\n",
       "    </tr>\n",
       "  </thead>\n",
       "  <tbody>\n",
       "    <tr>\n",
       "      <th>0</th>\n",
       "      <td>Emily</td>\n",
       "      <td>Master</td>\n",
       "      <td>Arizona</td>\n",
       "      <td>2</td>\n",
       "      <td>120</td>\n",
       "      <td>Emily from Arizona holds a Master degree \\n   ...</td>\n",
       "      <td>Mid Level</td>\n",
       "    </tr>\n",
       "    <tr>\n",
       "      <th>1</th>\n",
       "      <td>Lucas</td>\n",
       "      <td>Master</td>\n",
       "      <td>Chicago</td>\n",
       "      <td>3</td>\n",
       "      <td>80</td>\n",
       "      <td>Lucas from Chicago holds a Master degree \\n   ...</td>\n",
       "      <td>Mid Level</td>\n",
       "    </tr>\n",
       "    <tr>\n",
       "      <th>2</th>\n",
       "      <td>Camile</td>\n",
       "      <td>Bachelor</td>\n",
       "      <td>San Franciso</td>\n",
       "      <td>5</td>\n",
       "      <td>65</td>\n",
       "      <td>Camile from San Franciso holds a Bachelor degr...</td>\n",
       "      <td>Senior Level</td>\n",
       "    </tr>\n",
       "    <tr>\n",
       "      <th>3</th>\n",
       "      <td>Gabriel</td>\n",
       "      <td>PhD</td>\n",
       "      <td>New York</td>\n",
       "      <td>6</td>\n",
       "      <td>100</td>\n",
       "      <td>Gabriel from New York holds a PhD degree \\n   ...</td>\n",
       "      <td>Senior Level</td>\n",
       "    </tr>\n",
       "    <tr>\n",
       "      <th>4</th>\n",
       "      <td>Steven</td>\n",
       "      <td>Master</td>\n",
       "      <td>Ohio</td>\n",
       "      <td>0</td>\n",
       "      <td>30</td>\n",
       "      <td>Steven from Ohio holds a Master degree \\n     ...</td>\n",
       "      <td>Entry</td>\n",
       "    </tr>\n",
       "  </tbody>\n",
       "</table>\n",
       "</div>"
      ],
      "text/plain": [
       "      Name    Degree          From  Years_exp  From_office(min)  \\\n",
       "0    Emily    Master       Arizona          2               120   \n",
       "1    Lucas    Master       Chicago          3                80   \n",
       "2   Camile  Bachelor  San Franciso          5                65   \n",
       "3  Gabriel       PhD      New York          6               100   \n",
       "4   Steven    Master          Ohio          0                30   \n",
       "\n",
       "                                         Description     Seniority  \n",
       "0  Emily from Arizona holds a Master degree \\n   ...     Mid Level  \n",
       "1  Lucas from Chicago holds a Master degree \\n   ...     Mid Level  \n",
       "2  Camile from San Franciso holds a Bachelor degr...  Senior Level  \n",
       "3  Gabriel from New York holds a PhD degree \\n   ...  Senior Level  \n",
       "4  Steven from Ohio holds a Master degree \\n     ...         Entry  "
      ]
     },
     "execution_count": 201,
     "metadata": {},
     "output_type": "execute_result"
    }
   ],
   "source": [
    "# Categorize candidates by expertise with respect to their \n",
    "# num of experience :\n",
    "## Entry level : 0-1 years\n",
    "## Mid-level : 2-3 years\n",
    "## Senior level : 4-6 years\n",
    "\n",
    "seniority = ['Entry','Mid Level','Senior Level']\n",
    "seniority_bins = [0,1,3,6]\n",
    "candidates_df['Seniority'] = pd.cut(candidates_df['Years_exp'],\n",
    "                                    bins=seniority_bins,\n",
    "                                    labels=seniority,\n",
    "                                    include_lowest=True)\n",
    "candidates_df"
   ]
  },
  {
   "cell_type": "markdown",
   "id": "0a37e1e0-3a19-406d-af8d-527431680200",
   "metadata": {},
   "source": [
    "**qcut**() to divide your data into equal-sized bins\n",
    "\n",
    "It uses the underlying percentiles of the distribution of the data, rather than the edges of the bins."
   ]
  },
  {
   "cell_type": "code",
   "execution_count": 202,
   "id": "05641a33-09e3-4e26-a197-61021a3dfeb6",
   "metadata": {},
   "outputs": [
    {
     "data": {
      "text/html": [
       "<div>\n",
       "<style scoped>\n",
       "    .dataframe tbody tr th:only-of-type {\n",
       "        vertical-align: middle;\n",
       "    }\n",
       "\n",
       "    .dataframe tbody tr th {\n",
       "        vertical-align: top;\n",
       "    }\n",
       "\n",
       "    .dataframe thead th {\n",
       "        text-align: right;\n",
       "    }\n",
       "</style>\n",
       "<table border=\"1\" class=\"dataframe\">\n",
       "  <thead>\n",
       "    <tr style=\"text-align: right;\">\n",
       "      <th></th>\n",
       "      <th>Name</th>\n",
       "      <th>Degree</th>\n",
       "      <th>From</th>\n",
       "      <th>Years_exp</th>\n",
       "      <th>From_office(min)</th>\n",
       "      <th>Description</th>\n",
       "      <th>Seniority</th>\n",
       "      <th>Commute_level</th>\n",
       "    </tr>\n",
       "  </thead>\n",
       "  <tbody>\n",
       "    <tr>\n",
       "      <th>0</th>\n",
       "      <td>Emily</td>\n",
       "      <td>Master</td>\n",
       "      <td>Arizona</td>\n",
       "      <td>2</td>\n",
       "      <td>120</td>\n",
       "      <td>Emily from Arizona holds a Master degree \\n   ...</td>\n",
       "      <td>Mid Level</td>\n",
       "      <td>too long</td>\n",
       "    </tr>\n",
       "    <tr>\n",
       "      <th>1</th>\n",
       "      <td>Lucas</td>\n",
       "      <td>Master</td>\n",
       "      <td>Chicago</td>\n",
       "      <td>3</td>\n",
       "      <td>80</td>\n",
       "      <td>Lucas from Chicago holds a Master degree \\n   ...</td>\n",
       "      <td>Mid Level</td>\n",
       "      <td>acceptable</td>\n",
       "    </tr>\n",
       "    <tr>\n",
       "      <th>2</th>\n",
       "      <td>Camile</td>\n",
       "      <td>Bachelor</td>\n",
       "      <td>San Franciso</td>\n",
       "      <td>5</td>\n",
       "      <td>65</td>\n",
       "      <td>Camile from San Franciso holds a Bachelor degr...</td>\n",
       "      <td>Senior Level</td>\n",
       "      <td>good</td>\n",
       "    </tr>\n",
       "    <tr>\n",
       "      <th>3</th>\n",
       "      <td>Gabriel</td>\n",
       "      <td>PhD</td>\n",
       "      <td>New York</td>\n",
       "      <td>6</td>\n",
       "      <td>100</td>\n",
       "      <td>Gabriel from New York holds a PhD degree \\n   ...</td>\n",
       "      <td>Senior Level</td>\n",
       "      <td>too long</td>\n",
       "    </tr>\n",
       "    <tr>\n",
       "      <th>4</th>\n",
       "      <td>Steven</td>\n",
       "      <td>Master</td>\n",
       "      <td>Ohio</td>\n",
       "      <td>0</td>\n",
       "      <td>30</td>\n",
       "      <td>Steven from Ohio holds a Master degree \\n     ...</td>\n",
       "      <td>Entry</td>\n",
       "      <td>good</td>\n",
       "    </tr>\n",
       "  </tbody>\n",
       "</table>\n",
       "</div>"
      ],
      "text/plain": [
       "      Name    Degree          From  Years_exp  From_office(min)  \\\n",
       "0    Emily    Master       Arizona          2               120   \n",
       "1    Lucas    Master       Chicago          3                80   \n",
       "2   Camile  Bachelor  San Franciso          5                65   \n",
       "3  Gabriel       PhD      New York          6               100   \n",
       "4   Steven    Master          Ohio          0                30   \n",
       "\n",
       "                                         Description     Seniority  \\\n",
       "0  Emily from Arizona holds a Master degree \\n   ...     Mid Level   \n",
       "1  Lucas from Chicago holds a Master degree \\n   ...     Mid Level   \n",
       "2  Camile from San Franciso holds a Bachelor degr...  Senior Level   \n",
       "3  Gabriel from New York holds a PhD degree \\n   ...  Senior Level   \n",
       "4  Steven from Ohio holds a Master degree \\n     ...         Entry   \n",
       "\n",
       "  Commute_level  \n",
       "0      too long  \n",
       "1    acceptable  \n",
       "2          good  \n",
       "3      too long  \n",
       "4          good  "
      ]
     },
     "execution_count": 202,
     "metadata": {},
     "output_type": "execute_result"
    }
   ],
   "source": [
    "# Categorize the commute time of the candidates into :\n",
    "## Good, Acceptable, or Too Long\n",
    "commute_time_labels = [\"good\",\"acceptable\",\"too long\"]\n",
    "candidates_df[\"Commute_level\"] = pd.qcut(\n",
    "                                        candidates_df[\"From_office(min)\"],\n",
    "                                        q =3,\n",
    "                                        labels=commute_time_labels\n",
    "                                        )\n",
    "candidates_df"
   ]
  },
  {
   "cell_type": "markdown",
   "id": "9cc56769-4176-4f37-bfb4-9773686e44e4",
   "metadata": {},
   "source": [
    "Notes :\n",
    "1. When using **.cut**(): a number of bins = number of labels + 1\n",
    "2. When using **.qcut**(): a number of bins = number of labels\n",
    "3. With **.cut**(): set **include_lowest=True**, otherwise, the lowest value will be converted to NaN"
   ]
  },
  {
   "cell_type": "markdown",
   "id": "eae238c1-13d0-4511-8f82-5714d2d16887",
   "metadata": {},
   "source": [
    "### Select rows from a Pandas Dataframe based on column(s) values\n",
    "\n",
    "1. use **.query**() function by specifying the filter condition\n",
    "2. the filter expression can contain any operators(<,>,==,!=,etc.)\n",
    "3. use the **@** sign to use a variable in the expression"
   ]
  },
  {
   "cell_type": "code",
   "execution_count": 203,
   "id": "fb949e10-2a21-4ef9-a2ec-03e296699763",
   "metadata": {},
   "outputs": [],
   "source": [
    "# Get all the candidates with a Master degree\n",
    "ms_candidates = candidates_df.query(\"Degree == 'Master'\")"
   ]
  },
  {
   "cell_type": "code",
   "execution_count": 204,
   "id": "6cfc4011-2a83-49f3-a3bc-2cd68510cc8f",
   "metadata": {},
   "outputs": [
    {
     "data": {
      "text/html": [
       "<div>\n",
       "<style scoped>\n",
       "    .dataframe tbody tr th:only-of-type {\n",
       "        vertical-align: middle;\n",
       "    }\n",
       "\n",
       "    .dataframe tbody tr th {\n",
       "        vertical-align: top;\n",
       "    }\n",
       "\n",
       "    .dataframe thead th {\n",
       "        text-align: right;\n",
       "    }\n",
       "</style>\n",
       "<table border=\"1\" class=\"dataframe\">\n",
       "  <thead>\n",
       "    <tr style=\"text-align: right;\">\n",
       "      <th></th>\n",
       "      <th>Name</th>\n",
       "      <th>Degree</th>\n",
       "      <th>From</th>\n",
       "      <th>Years_exp</th>\n",
       "      <th>From_office(min)</th>\n",
       "      <th>Description</th>\n",
       "      <th>Seniority</th>\n",
       "      <th>Commute_level</th>\n",
       "    </tr>\n",
       "  </thead>\n",
       "  <tbody>\n",
       "    <tr>\n",
       "      <th>0</th>\n",
       "      <td>Emily</td>\n",
       "      <td>Master</td>\n",
       "      <td>Arizona</td>\n",
       "      <td>2</td>\n",
       "      <td>120</td>\n",
       "      <td>Emily from Arizona holds a Master degree \\n   ...</td>\n",
       "      <td>Mid Level</td>\n",
       "      <td>too long</td>\n",
       "    </tr>\n",
       "    <tr>\n",
       "      <th>1</th>\n",
       "      <td>Lucas</td>\n",
       "      <td>Master</td>\n",
       "      <td>Chicago</td>\n",
       "      <td>3</td>\n",
       "      <td>80</td>\n",
       "      <td>Lucas from Chicago holds a Master degree \\n   ...</td>\n",
       "      <td>Mid Level</td>\n",
       "      <td>acceptable</td>\n",
       "    </tr>\n",
       "    <tr>\n",
       "      <th>4</th>\n",
       "      <td>Steven</td>\n",
       "      <td>Master</td>\n",
       "      <td>Ohio</td>\n",
       "      <td>0</td>\n",
       "      <td>30</td>\n",
       "      <td>Steven from Ohio holds a Master degree \\n     ...</td>\n",
       "      <td>Entry</td>\n",
       "      <td>good</td>\n",
       "    </tr>\n",
       "  </tbody>\n",
       "</table>\n",
       "</div>"
      ],
      "text/plain": [
       "     Name  Degree     From  Years_exp  From_office(min)  \\\n",
       "0   Emily  Master  Arizona          2               120   \n",
       "1   Lucas  Master  Chicago          3                80   \n",
       "4  Steven  Master     Ohio          0                30   \n",
       "\n",
       "                                         Description  Seniority Commute_level  \n",
       "0  Emily from Arizona holds a Master degree \\n   ...  Mid Level      too long  \n",
       "1  Lucas from Chicago holds a Master degree \\n   ...  Mid Level    acceptable  \n",
       "4  Steven from Ohio holds a Master degree \\n     ...      Entry          good  "
      ]
     },
     "execution_count": 204,
     "metadata": {},
     "output_type": "execute_result"
    }
   ],
   "source": [
    "ms_candidates"
   ]
  },
  {
   "cell_type": "code",
   "execution_count": 205,
   "id": "bf0ed547-73c1-42da-95c2-3c209b23692c",
   "metadata": {},
   "outputs": [],
   "source": [
    "# Get non-bachelor candidates\n",
    "no_bs_candidates = candidates_df.query(\"Degree != 'Bachelor'\")"
   ]
  },
  {
   "cell_type": "code",
   "execution_count": 206,
   "id": "ee7619dc-7e30-48fe-b89f-d8c3c9480fa9",
   "metadata": {},
   "outputs": [
    {
     "data": {
      "text/html": [
       "<div>\n",
       "<style scoped>\n",
       "    .dataframe tbody tr th:only-of-type {\n",
       "        vertical-align: middle;\n",
       "    }\n",
       "\n",
       "    .dataframe tbody tr th {\n",
       "        vertical-align: top;\n",
       "    }\n",
       "\n",
       "    .dataframe thead th {\n",
       "        text-align: right;\n",
       "    }\n",
       "</style>\n",
       "<table border=\"1\" class=\"dataframe\">\n",
       "  <thead>\n",
       "    <tr style=\"text-align: right;\">\n",
       "      <th></th>\n",
       "      <th>Name</th>\n",
       "      <th>Degree</th>\n",
       "      <th>From</th>\n",
       "      <th>Years_exp</th>\n",
       "      <th>From_office(min)</th>\n",
       "      <th>Description</th>\n",
       "      <th>Seniority</th>\n",
       "      <th>Commute_level</th>\n",
       "    </tr>\n",
       "  </thead>\n",
       "  <tbody>\n",
       "    <tr>\n",
       "      <th>0</th>\n",
       "      <td>Emily</td>\n",
       "      <td>Master</td>\n",
       "      <td>Arizona</td>\n",
       "      <td>2</td>\n",
       "      <td>120</td>\n",
       "      <td>Emily from Arizona holds a Master degree \\n   ...</td>\n",
       "      <td>Mid Level</td>\n",
       "      <td>too long</td>\n",
       "    </tr>\n",
       "    <tr>\n",
       "      <th>1</th>\n",
       "      <td>Lucas</td>\n",
       "      <td>Master</td>\n",
       "      <td>Chicago</td>\n",
       "      <td>3</td>\n",
       "      <td>80</td>\n",
       "      <td>Lucas from Chicago holds a Master degree \\n   ...</td>\n",
       "      <td>Mid Level</td>\n",
       "      <td>acceptable</td>\n",
       "    </tr>\n",
       "    <tr>\n",
       "      <th>3</th>\n",
       "      <td>Gabriel</td>\n",
       "      <td>PhD</td>\n",
       "      <td>New York</td>\n",
       "      <td>6</td>\n",
       "      <td>100</td>\n",
       "      <td>Gabriel from New York holds a PhD degree \\n   ...</td>\n",
       "      <td>Senior Level</td>\n",
       "      <td>too long</td>\n",
       "    </tr>\n",
       "    <tr>\n",
       "      <th>4</th>\n",
       "      <td>Steven</td>\n",
       "      <td>Master</td>\n",
       "      <td>Ohio</td>\n",
       "      <td>0</td>\n",
       "      <td>30</td>\n",
       "      <td>Steven from Ohio holds a Master degree \\n     ...</td>\n",
       "      <td>Entry</td>\n",
       "      <td>good</td>\n",
       "    </tr>\n",
       "  </tbody>\n",
       "</table>\n",
       "</div>"
      ],
      "text/plain": [
       "      Name  Degree      From  Years_exp  From_office(min)  \\\n",
       "0    Emily  Master   Arizona          2               120   \n",
       "1    Lucas  Master   Chicago          3                80   \n",
       "3  Gabriel     PhD  New York          6               100   \n",
       "4   Steven  Master      Ohio          0                30   \n",
       "\n",
       "                                         Description     Seniority  \\\n",
       "0  Emily from Arizona holds a Master degree \\n   ...     Mid Level   \n",
       "1  Lucas from Chicago holds a Master degree \\n   ...     Mid Level   \n",
       "3  Gabriel from New York holds a PhD degree \\n   ...  Senior Level   \n",
       "4  Steven from Ohio holds a Master degree \\n     ...         Entry   \n",
       "\n",
       "  Commute_level  \n",
       "0      too long  \n",
       "1    acceptable  \n",
       "3      too long  \n",
       "4          good  "
      ]
     },
     "execution_count": 206,
     "metadata": {},
     "output_type": "execute_result"
    }
   ],
   "source": [
    "no_bs_candidates"
   ]
  },
  {
   "cell_type": "code",
   "execution_count": 207,
   "id": "bb468f72-35fb-4b45-a828-45b8e5c2c36f",
   "metadata": {},
   "outputs": [],
   "source": [
    "# Get values from list\n",
    "list_locations = [\"Chicago\", \"Arizona\"]\n",
    "candidates = candidates_df.query(\"From in @list_locations\")"
   ]
  },
  {
   "cell_type": "code",
   "execution_count": 208,
   "id": "72f1d7c3-86bb-4ffc-a2d6-ad10c04aebbc",
   "metadata": {},
   "outputs": [
    {
     "data": {
      "text/html": [
       "<div>\n",
       "<style scoped>\n",
       "    .dataframe tbody tr th:only-of-type {\n",
       "        vertical-align: middle;\n",
       "    }\n",
       "\n",
       "    .dataframe tbody tr th {\n",
       "        vertical-align: top;\n",
       "    }\n",
       "\n",
       "    .dataframe thead th {\n",
       "        text-align: right;\n",
       "    }\n",
       "</style>\n",
       "<table border=\"1\" class=\"dataframe\">\n",
       "  <thead>\n",
       "    <tr style=\"text-align: right;\">\n",
       "      <th></th>\n",
       "      <th>Name</th>\n",
       "      <th>Degree</th>\n",
       "      <th>From</th>\n",
       "      <th>Years_exp</th>\n",
       "      <th>From_office(min)</th>\n",
       "      <th>Description</th>\n",
       "      <th>Seniority</th>\n",
       "      <th>Commute_level</th>\n",
       "    </tr>\n",
       "  </thead>\n",
       "  <tbody>\n",
       "    <tr>\n",
       "      <th>0</th>\n",
       "      <td>Emily</td>\n",
       "      <td>Master</td>\n",
       "      <td>Arizona</td>\n",
       "      <td>2</td>\n",
       "      <td>120</td>\n",
       "      <td>Emily from Arizona holds a Master degree \\n   ...</td>\n",
       "      <td>Mid Level</td>\n",
       "      <td>too long</td>\n",
       "    </tr>\n",
       "    <tr>\n",
       "      <th>1</th>\n",
       "      <td>Lucas</td>\n",
       "      <td>Master</td>\n",
       "      <td>Chicago</td>\n",
       "      <td>3</td>\n",
       "      <td>80</td>\n",
       "      <td>Lucas from Chicago holds a Master degree \\n   ...</td>\n",
       "      <td>Mid Level</td>\n",
       "      <td>acceptable</td>\n",
       "    </tr>\n",
       "  </tbody>\n",
       "</table>\n",
       "</div>"
      ],
      "text/plain": [
       "    Name  Degree     From  Years_exp  From_office(min)  \\\n",
       "0  Emily  Master  Arizona          2               120   \n",
       "1  Lucas  Master  Chicago          3                80   \n",
       "\n",
       "                                         Description  Seniority Commute_level  \n",
       "0  Emily from Arizona holds a Master degree \\n   ...  Mid Level      too long  \n",
       "1  Lucas from Chicago holds a Master degree \\n   ...  Mid Level    acceptable  "
      ]
     },
     "execution_count": 208,
     "metadata": {},
     "output_type": "execute_result"
    }
   ],
   "source": [
    "candidates"
   ]
  },
  {
   "cell_type": "markdown",
   "id": "ac444276-e90d-4c17-8b7b-7e5822ed7fdf",
   "metadata": {},
   "source": [
    "### Deal with zip files"
   ]
  },
  {
   "cell_type": "code",
   "execution_count": 209,
   "id": "a99671f7-be2f-4ad7-ab22-49d8362d41d0",
   "metadata": {
    "tags": []
   },
   "outputs": [
    {
     "data": {
      "text/html": [
       "<div>\n",
       "<style scoped>\n",
       "    .dataframe tbody tr th:only-of-type {\n",
       "        vertical-align: middle;\n",
       "    }\n",
       "\n",
       "    .dataframe tbody tr th {\n",
       "        vertical-align: top;\n",
       "    }\n",
       "\n",
       "    .dataframe thead th {\n",
       "        text-align: right;\n",
       "    }\n",
       "</style>\n",
       "<table border=\"1\" class=\"dataframe\">\n",
       "  <thead>\n",
       "    <tr style=\"text-align: right;\">\n",
       "      <th></th>\n",
       "      <th>state_fips</th>\n",
       "      <th>state</th>\n",
       "      <th>state_abbr</th>\n",
       "      <th>zipcode</th>\n",
       "      <th>county</th>\n",
       "      <th>city</th>\n",
       "    </tr>\n",
       "  </thead>\n",
       "  <tbody>\n",
       "    <tr>\n",
       "      <th>0</th>\n",
       "      <td>1</td>\n",
       "      <td>Alabama</td>\n",
       "      <td>AL</td>\n",
       "      <td>35004</td>\n",
       "      <td>St. Clair</td>\n",
       "      <td>Acmar</td>\n",
       "    </tr>\n",
       "    <tr>\n",
       "      <th>1</th>\n",
       "      <td>1</td>\n",
       "      <td>Alabama</td>\n",
       "      <td>AL</td>\n",
       "      <td>35005</td>\n",
       "      <td>Jefferson</td>\n",
       "      <td>Adamsville</td>\n",
       "    </tr>\n",
       "    <tr>\n",
       "      <th>2</th>\n",
       "      <td>1</td>\n",
       "      <td>Alabama</td>\n",
       "      <td>AL</td>\n",
       "      <td>35006</td>\n",
       "      <td>Jefferson</td>\n",
       "      <td>Adger</td>\n",
       "    </tr>\n",
       "    <tr>\n",
       "      <th>3</th>\n",
       "      <td>1</td>\n",
       "      <td>Alabama</td>\n",
       "      <td>AL</td>\n",
       "      <td>35007</td>\n",
       "      <td>Shelby</td>\n",
       "      <td>Keystone</td>\n",
       "    </tr>\n",
       "    <tr>\n",
       "      <th>4</th>\n",
       "      <td>1</td>\n",
       "      <td>Alabama</td>\n",
       "      <td>AL</td>\n",
       "      <td>35010</td>\n",
       "      <td>Tallapoosa</td>\n",
       "      <td>New site</td>\n",
       "    </tr>\n",
       "  </tbody>\n",
       "</table>\n",
       "</div>"
      ],
      "text/plain": [
       "   state_fips    state state_abbr zipcode      county        city\n",
       "0           1  Alabama         AL   35004   St. Clair       Acmar\n",
       "1           1  Alabama         AL   35005   Jefferson  Adamsville\n",
       "2           1  Alabama         AL   35006   Jefferson       Adger\n",
       "3           1  Alabama         AL   35007      Shelby    Keystone\n",
       "4           1  Alabama         AL   35010  Tallapoosa    New site"
      ]
     },
     "execution_count": 209,
     "metadata": {},
     "output_type": "execute_result"
    }
   ],
   "source": [
    "# Case 1 : Write Zip Files\n",
    "## Read data from internet\n",
    "df = pd.read_csv('https://raw.githubusercontent.com/scpike/us-state-county-zip/master/geo-data.csv')\n",
    "df.head()"
   ]
  },
  {
   "cell_type": "code",
   "execution_count": 210,
   "id": "24325276-01fb-4001-a3b7-126fc73250a4",
   "metadata": {},
   "outputs": [
    {
     "data": {
      "text/plain": [
       "3.7266106274091118"
      ]
     },
     "execution_count": 210,
     "metadata": {},
     "output_type": "execute_result"
    }
   ],
   "source": [
    "df.to_csv('geo-data.csv')\n",
    "\n",
    "# Save it as a zip file\n",
    "df.to_csv(\"geo-data.csv.zip\", compression=\"zip\")\n",
    "\n",
    "# Check the files sizes\n",
    "from os import path\n",
    "path.getsize('geo-data.csv') / path.getsize('geo-data.csv.zip')"
   ]
  },
  {
   "cell_type": "code",
   "execution_count": 211,
   "id": "70f80790-8687-467f-bc60-5e986ad31aae",
   "metadata": {},
   "outputs": [],
   "source": [
    "# Case 2 : Read Zip Files\n",
    "## To read a single zip file\n",
    "df_unzip = pd.read_csv(\"geo-data.csv.zip\", compression=\"zip\")"
   ]
  },
  {
   "cell_type": "code",
   "execution_count": null,
   "id": "0d59bb33-9b6f-4fec-866c-7581404e6ac1",
   "metadata": {},
   "outputs": [],
   "source": [
    "from zipfile import ZipFile\n",
    "## To read the file from a zip folder\n",
    "sales_df = pd.read_csv(\"data.zip\").open('data/sales_df.csv')"
   ]
  },
  {
   "cell_type": "markdown",
   "id": "e40ae24b-a875-4a49-a6c8-e7069e9ec401",
   "metadata": {},
   "source": [
    "### Select a subset of your Pandas Dataframe with specific column types\n",
    "Use the **select_dtypes**. It takes two main parameters: **include** and **exclude**\n",
    "\n",
    "1. **df.select_dtypes(include=['type_1','type_2',..])** means I want the subset of my data frame with columns of type_1, type_2...\n",
    "2. **df.select_dtypes(exclude=['type_1', 'type_2',..])** means I want the subset of my data frame WITHOUT columns of type_1, type_2.."
   ]
  },
  {
   "cell_type": "code",
   "execution_count": 213,
   "id": "aecd01a4-b3ca-49f1-aeab-eb5fedb561f9",
   "metadata": {},
   "outputs": [
    {
     "data": {
      "text/plain": [
       "Name                  object\n",
       "Degree                object\n",
       "From                  object\n",
       "Years_exp              int64\n",
       "From_office(min)       int64\n",
       "Description           object\n",
       "Seniority           category\n",
       "Commute_level       category\n",
       "dtype: object"
      ]
     },
     "execution_count": 213,
     "metadata": {},
     "output_type": "execute_result"
    }
   ],
   "source": [
    "# Check the data columns' types\n",
    "candidates_df.dtypes"
   ]
  },
  {
   "cell_type": "code",
   "execution_count": 214,
   "id": "74415725-cd62-486f-a946-c7e25abacc27",
   "metadata": {},
   "outputs": [
    {
     "data": {
      "text/html": [
       "<div>\n",
       "<style scoped>\n",
       "    .dataframe tbody tr th:only-of-type {\n",
       "        vertical-align: middle;\n",
       "    }\n",
       "\n",
       "    .dataframe tbody tr th {\n",
       "        vertical-align: top;\n",
       "    }\n",
       "\n",
       "    .dataframe thead th {\n",
       "        text-align: right;\n",
       "    }\n",
       "</style>\n",
       "<table border=\"1\" class=\"dataframe\">\n",
       "  <thead>\n",
       "    <tr style=\"text-align: right;\">\n",
       "      <th></th>\n",
       "      <th>Name</th>\n",
       "      <th>Degree</th>\n",
       "      <th>From</th>\n",
       "      <th>Description</th>\n",
       "      <th>Seniority</th>\n",
       "      <th>Commute_level</th>\n",
       "    </tr>\n",
       "  </thead>\n",
       "  <tbody>\n",
       "    <tr>\n",
       "      <th>0</th>\n",
       "      <td>Emily</td>\n",
       "      <td>Master</td>\n",
       "      <td>Arizona</td>\n",
       "      <td>Emily from Arizona holds a Master degree \\n   ...</td>\n",
       "      <td>Mid Level</td>\n",
       "      <td>too long</td>\n",
       "    </tr>\n",
       "    <tr>\n",
       "      <th>1</th>\n",
       "      <td>Lucas</td>\n",
       "      <td>Master</td>\n",
       "      <td>Chicago</td>\n",
       "      <td>Lucas from Chicago holds a Master degree \\n   ...</td>\n",
       "      <td>Mid Level</td>\n",
       "      <td>acceptable</td>\n",
       "    </tr>\n",
       "    <tr>\n",
       "      <th>2</th>\n",
       "      <td>Camile</td>\n",
       "      <td>Bachelor</td>\n",
       "      <td>San Franciso</td>\n",
       "      <td>Camile from San Franciso holds a Bachelor degr...</td>\n",
       "      <td>Senior Level</td>\n",
       "      <td>good</td>\n",
       "    </tr>\n",
       "    <tr>\n",
       "      <th>3</th>\n",
       "      <td>Gabriel</td>\n",
       "      <td>PhD</td>\n",
       "      <td>New York</td>\n",
       "      <td>Gabriel from New York holds a PhD degree \\n   ...</td>\n",
       "      <td>Senior Level</td>\n",
       "      <td>too long</td>\n",
       "    </tr>\n",
       "    <tr>\n",
       "      <th>4</th>\n",
       "      <td>Steven</td>\n",
       "      <td>Master</td>\n",
       "      <td>Ohio</td>\n",
       "      <td>Steven from Ohio holds a Master degree \\n     ...</td>\n",
       "      <td>Entry</td>\n",
       "      <td>good</td>\n",
       "    </tr>\n",
       "  </tbody>\n",
       "</table>\n",
       "</div>"
      ],
      "text/plain": [
       "      Name    Degree          From  \\\n",
       "0    Emily    Master       Arizona   \n",
       "1    Lucas    Master       Chicago   \n",
       "2   Camile  Bachelor  San Franciso   \n",
       "3  Gabriel       PhD      New York   \n",
       "4   Steven    Master          Ohio   \n",
       "\n",
       "                                         Description     Seniority  \\\n",
       "0  Emily from Arizona holds a Master degree \\n   ...     Mid Level   \n",
       "1  Lucas from Chicago holds a Master degree \\n   ...     Mid Level   \n",
       "2  Camile from San Franciso holds a Bachelor degr...  Senior Level   \n",
       "3  Gabriel from New York holds a PhD degree \\n   ...  Senior Level   \n",
       "4  Steven from Ohio holds a Master degree \\n     ...         Entry   \n",
       "\n",
       "  Commute_level  \n",
       "0      too long  \n",
       "1    acceptable  \n",
       "2          good  \n",
       "3      too long  \n",
       "4          good  "
      ]
     },
     "execution_count": 214,
     "metadata": {},
     "output_type": "execute_result"
    }
   ],
   "source": [
    "# Only select columns of type \"object\" & \"category\"\n",
    "candidates_df.select_dtypes(include=[\"object\",\"category\"])"
   ]
  },
  {
   "cell_type": "code",
   "execution_count": 215,
   "id": "9a9f9613-cb0b-4856-9601-76480843b1a7",
   "metadata": {},
   "outputs": [
    {
     "data": {
      "text/html": [
       "<div>\n",
       "<style scoped>\n",
       "    .dataframe tbody tr th:only-of-type {\n",
       "        vertical-align: middle;\n",
       "    }\n",
       "\n",
       "    .dataframe tbody tr th {\n",
       "        vertical-align: top;\n",
       "    }\n",
       "\n",
       "    .dataframe thead th {\n",
       "        text-align: right;\n",
       "    }\n",
       "</style>\n",
       "<table border=\"1\" class=\"dataframe\">\n",
       "  <thead>\n",
       "    <tr style=\"text-align: right;\">\n",
       "      <th></th>\n",
       "      <th>Name</th>\n",
       "      <th>Degree</th>\n",
       "      <th>From</th>\n",
       "      <th>Description</th>\n",
       "    </tr>\n",
       "  </thead>\n",
       "  <tbody>\n",
       "    <tr>\n",
       "      <th>0</th>\n",
       "      <td>Emily</td>\n",
       "      <td>Master</td>\n",
       "      <td>Arizona</td>\n",
       "      <td>Emily from Arizona holds a Master degree \\n   ...</td>\n",
       "    </tr>\n",
       "    <tr>\n",
       "      <th>1</th>\n",
       "      <td>Lucas</td>\n",
       "      <td>Master</td>\n",
       "      <td>Chicago</td>\n",
       "      <td>Lucas from Chicago holds a Master degree \\n   ...</td>\n",
       "    </tr>\n",
       "    <tr>\n",
       "      <th>2</th>\n",
       "      <td>Camile</td>\n",
       "      <td>Bachelor</td>\n",
       "      <td>San Franciso</td>\n",
       "      <td>Camile from San Franciso holds a Bachelor degr...</td>\n",
       "    </tr>\n",
       "    <tr>\n",
       "      <th>3</th>\n",
       "      <td>Gabriel</td>\n",
       "      <td>PhD</td>\n",
       "      <td>New York</td>\n",
       "      <td>Gabriel from New York holds a PhD degree \\n   ...</td>\n",
       "    </tr>\n",
       "    <tr>\n",
       "      <th>4</th>\n",
       "      <td>Steven</td>\n",
       "      <td>Master</td>\n",
       "      <td>Ohio</td>\n",
       "      <td>Steven from Ohio holds a Master degree \\n     ...</td>\n",
       "    </tr>\n",
       "  </tbody>\n",
       "</table>\n",
       "</div>"
      ],
      "text/plain": [
       "      Name    Degree          From  \\\n",
       "0    Emily    Master       Arizona   \n",
       "1    Lucas    Master       Chicago   \n",
       "2   Camile  Bachelor  San Franciso   \n",
       "3  Gabriel       PhD      New York   \n",
       "4   Steven    Master          Ohio   \n",
       "\n",
       "                                         Description  \n",
       "0  Emily from Arizona holds a Master degree \\n   ...  \n",
       "1  Lucas from Chicago holds a Master degree \\n   ...  \n",
       "2  Camile from San Franciso holds a Bachelor degr...  \n",
       "3  Gabriel from New York holds a PhD degree \\n   ...  \n",
       "4  Steven from Ohio holds a Master degree \\n     ...  "
      ]
     },
     "execution_count": 215,
     "metadata": {},
     "output_type": "execute_result"
    }
   ],
   "source": [
    "# Exclude columns of type \"int64\" & \"category\"\n",
    "candidates_df.select_dtypes(exclude=[\"int64\", \"category\"])"
   ]
  },
  {
   "cell_type": "markdown",
   "id": "96b1126f-1635-43b9-85cf-6f41203d9407",
   "metadata": {},
   "source": [
    "### Remove comments from Pandas Dataframe column\n",
    "This can be done on the fly while loading your pandas dataframe using the **comment** parameter as follows :\n",
    "\n",
    "clean_data = pd.read_csv(path_to_data, comment=\"symbol\")\n",
    "\n",
    "But what in case if I want to create a new column for those comments and still remove them from the application date column?"
   ]
  },
  {
   "cell_type": "code",
   "execution_count": 216,
   "id": "1a6eb2a2-d8ac-4502-81f8-4d9b4e476089",
   "metadata": {},
   "outputs": [],
   "source": [
    "temp_df = {\n",
    "    'Name':[\"Emily\",\"Lucas\",\"Camile\",\"Gabriel\",\"Steven\"],\n",
    "    'Degree':['Master','Master','Bachelor','PhD','Master'],\n",
    "    'From':['Arizona','Chicago','San Franciso','New York','Ohio'],\n",
    "    'From_office(min)':[120,80,65,100,30],\n",
    "    'application_date':[\n",
    "                    '17/11/2022 # more interested in Machine Learning',\n",
    "                    '23/09/2022 #open to any type of Data Role',\n",
    "                    '02/12/2021 # will be available in 6 months',\n",
    "                    '25/08/2022 # only interested in Senior positions',\n",
    "                    '07/01/2022 # can relocate to any other cities'\n",
    "    ]\n",
    "}"
   ]
  },
  {
   "cell_type": "code",
   "execution_count": 217,
   "id": "592066e0-24ed-4f57-a1da-9439a41a0e67",
   "metadata": {},
   "outputs": [],
   "source": [
    "df = pd.DataFrame(temp_df)"
   ]
  },
  {
   "cell_type": "code",
   "execution_count": 218,
   "id": "f8c853f8-2d65-4dfd-92a2-b8c74c0f9040",
   "metadata": {},
   "outputs": [],
   "source": [
    "df.to_csv('temp_df.csv')"
   ]
  },
  {
   "cell_type": "code",
   "execution_count": 219,
   "id": "038953ca-9f75-4640-a1ff-3a5142aebcac",
   "metadata": {},
   "outputs": [],
   "source": [
    "# Messy Data\n",
    "messy_df = pd.read_csv(\"temp_df.csv\")"
   ]
  },
  {
   "cell_type": "code",
   "execution_count": 220,
   "id": "fbc761dc-11e6-43b8-9b90-efd1a28b8d7a",
   "metadata": {},
   "outputs": [
    {
     "data": {
      "text/html": [
       "<div>\n",
       "<style scoped>\n",
       "    .dataframe tbody tr th:only-of-type {\n",
       "        vertical-align: middle;\n",
       "    }\n",
       "\n",
       "    .dataframe tbody tr th {\n",
       "        vertical-align: top;\n",
       "    }\n",
       "\n",
       "    .dataframe thead th {\n",
       "        text-align: right;\n",
       "    }\n",
       "</style>\n",
       "<table border=\"1\" class=\"dataframe\">\n",
       "  <thead>\n",
       "    <tr style=\"text-align: right;\">\n",
       "      <th></th>\n",
       "      <th>Unnamed: 0</th>\n",
       "      <th>Name</th>\n",
       "      <th>Degree</th>\n",
       "      <th>From</th>\n",
       "      <th>From_office(min)</th>\n",
       "      <th>application_date</th>\n",
       "    </tr>\n",
       "  </thead>\n",
       "  <tbody>\n",
       "    <tr>\n",
       "      <th>0</th>\n",
       "      <td>0</td>\n",
       "      <td>Emily</td>\n",
       "      <td>Master</td>\n",
       "      <td>Arizona</td>\n",
       "      <td>120</td>\n",
       "      <td>17/11/2022 # more interested in Machine Learning</td>\n",
       "    </tr>\n",
       "    <tr>\n",
       "      <th>1</th>\n",
       "      <td>1</td>\n",
       "      <td>Lucas</td>\n",
       "      <td>Master</td>\n",
       "      <td>Chicago</td>\n",
       "      <td>80</td>\n",
       "      <td>23/09/2022 #open to any type of Data Role</td>\n",
       "    </tr>\n",
       "    <tr>\n",
       "      <th>2</th>\n",
       "      <td>2</td>\n",
       "      <td>Camile</td>\n",
       "      <td>Bachelor</td>\n",
       "      <td>San Franciso</td>\n",
       "      <td>65</td>\n",
       "      <td>02/12/2021 # will be available in 6 months</td>\n",
       "    </tr>\n",
       "    <tr>\n",
       "      <th>3</th>\n",
       "      <td>3</td>\n",
       "      <td>Gabriel</td>\n",
       "      <td>PhD</td>\n",
       "      <td>New York</td>\n",
       "      <td>100</td>\n",
       "      <td>25/08/2022 # only interested in Senior positions</td>\n",
       "    </tr>\n",
       "    <tr>\n",
       "      <th>4</th>\n",
       "      <td>4</td>\n",
       "      <td>Steven</td>\n",
       "      <td>Master</td>\n",
       "      <td>Ohio</td>\n",
       "      <td>30</td>\n",
       "      <td>07/01/2022 # can relocate to any other cities</td>\n",
       "    </tr>\n",
       "  </tbody>\n",
       "</table>\n",
       "</div>"
      ],
      "text/plain": [
       "   Unnamed: 0     Name    Degree          From  From_office(min)  \\\n",
       "0           0    Emily    Master       Arizona               120   \n",
       "1           1    Lucas    Master       Chicago                80   \n",
       "2           2   Camile  Bachelor  San Franciso                65   \n",
       "3           3  Gabriel       PhD      New York               100   \n",
       "4           4   Steven    Master          Ohio                30   \n",
       "\n",
       "                                   application_date  \n",
       "0  17/11/2022 # more interested in Machine Learning  \n",
       "1         23/09/2022 #open to any type of Data Role  \n",
       "2        02/12/2021 # will be available in 6 months  \n",
       "3  25/08/2022 # only interested in Senior positions  \n",
       "4     07/01/2022 # can relocate to any other cities  "
      ]
     },
     "execution_count": 220,
     "metadata": {},
     "output_type": "execute_result"
    }
   ],
   "source": [
    "messy_df"
   ]
  },
  {
   "cell_type": "code",
   "execution_count": 221,
   "id": "6bff4eea-70cf-4cbf-8dd4-b67d4dd73f39",
   "metadata": {},
   "outputs": [
    {
     "data": {
      "text/html": [
       "<div>\n",
       "<style scoped>\n",
       "    .dataframe tbody tr th:only-of-type {\n",
       "        vertical-align: middle;\n",
       "    }\n",
       "\n",
       "    .dataframe tbody tr th {\n",
       "        vertical-align: top;\n",
       "    }\n",
       "\n",
       "    .dataframe thead th {\n",
       "        text-align: right;\n",
       "    }\n",
       "</style>\n",
       "<table border=\"1\" class=\"dataframe\">\n",
       "  <thead>\n",
       "    <tr style=\"text-align: right;\">\n",
       "      <th></th>\n",
       "      <th>Unnamed: 0</th>\n",
       "      <th>Name</th>\n",
       "      <th>Degree</th>\n",
       "      <th>From</th>\n",
       "      <th>From_office(min)</th>\n",
       "      <th>application_date</th>\n",
       "    </tr>\n",
       "  </thead>\n",
       "  <tbody>\n",
       "    <tr>\n",
       "      <th>0</th>\n",
       "      <td>0</td>\n",
       "      <td>Emily</td>\n",
       "      <td>Master</td>\n",
       "      <td>Arizona</td>\n",
       "      <td>120</td>\n",
       "      <td>17/11/2022</td>\n",
       "    </tr>\n",
       "    <tr>\n",
       "      <th>1</th>\n",
       "      <td>1</td>\n",
       "      <td>Lucas</td>\n",
       "      <td>Master</td>\n",
       "      <td>Chicago</td>\n",
       "      <td>80</td>\n",
       "      <td>23/09/2022</td>\n",
       "    </tr>\n",
       "    <tr>\n",
       "      <th>2</th>\n",
       "      <td>2</td>\n",
       "      <td>Camile</td>\n",
       "      <td>Bachelor</td>\n",
       "      <td>San Franciso</td>\n",
       "      <td>65</td>\n",
       "      <td>02/12/2021</td>\n",
       "    </tr>\n",
       "    <tr>\n",
       "      <th>3</th>\n",
       "      <td>3</td>\n",
       "      <td>Gabriel</td>\n",
       "      <td>PhD</td>\n",
       "      <td>New York</td>\n",
       "      <td>100</td>\n",
       "      <td>25/08/2022</td>\n",
       "    </tr>\n",
       "    <tr>\n",
       "      <th>4</th>\n",
       "      <td>4</td>\n",
       "      <td>Steven</td>\n",
       "      <td>Master</td>\n",
       "      <td>Ohio</td>\n",
       "      <td>30</td>\n",
       "      <td>07/01/2022</td>\n",
       "    </tr>\n",
       "  </tbody>\n",
       "</table>\n",
       "</div>"
      ],
      "text/plain": [
       "   Unnamed: 0     Name    Degree          From  From_office(min)  \\\n",
       "0           0    Emily    Master       Arizona               120   \n",
       "1           1    Lucas    Master       Chicago                80   \n",
       "2           2   Camile  Bachelor  San Franciso                65   \n",
       "3           3  Gabriel       PhD      New York               100   \n",
       "4           4   Steven    Master          Ohio                30   \n",
       "\n",
       "  application_date  \n",
       "0      17/11/2022   \n",
       "1      23/09/2022   \n",
       "2      02/12/2021   \n",
       "3      25/08/2022   \n",
       "4      07/01/2022   "
      ]
     },
     "execution_count": 221,
     "metadata": {},
     "output_type": "execute_result"
    }
   ],
   "source": [
    "# Scenario 1 : Remove Comments\n",
    "## clean_data = pd.read_csv(path_to_data, comment=\"symbol\")\n",
    "clean_df = pd.read_csv(\"temp_df.csv\", comment=\"#\")\n",
    "clean_df"
   ]
  },
  {
   "cell_type": "code",
   "execution_count": 222,
   "id": "9b19c28a-d1a9-42fd-a4c3-0e4da7b5bb51",
   "metadata": {},
   "outputs": [
    {
     "data": {
      "text/html": [
       "<div>\n",
       "<style scoped>\n",
       "    .dataframe tbody tr th:only-of-type {\n",
       "        vertical-align: middle;\n",
       "    }\n",
       "\n",
       "    .dataframe tbody tr th {\n",
       "        vertical-align: top;\n",
       "    }\n",
       "\n",
       "    .dataframe thead th {\n",
       "        text-align: right;\n",
       "    }\n",
       "</style>\n",
       "<table border=\"1\" class=\"dataframe\">\n",
       "  <thead>\n",
       "    <tr style=\"text-align: right;\">\n",
       "      <th></th>\n",
       "      <th>Unnamed: 0</th>\n",
       "      <th>Name</th>\n",
       "      <th>Degree</th>\n",
       "      <th>From</th>\n",
       "      <th>From_office(min)</th>\n",
       "      <th>application_date</th>\n",
       "      <th>comment</th>\n",
       "    </tr>\n",
       "  </thead>\n",
       "  <tbody>\n",
       "    <tr>\n",
       "      <th>0</th>\n",
       "      <td>0</td>\n",
       "      <td>Emily</td>\n",
       "      <td>Master</td>\n",
       "      <td>Arizona</td>\n",
       "      <td>120</td>\n",
       "      <td>17/11/2022</td>\n",
       "      <td>more interested in Machine Learning</td>\n",
       "    </tr>\n",
       "    <tr>\n",
       "      <th>1</th>\n",
       "      <td>1</td>\n",
       "      <td>Lucas</td>\n",
       "      <td>Master</td>\n",
       "      <td>Chicago</td>\n",
       "      <td>80</td>\n",
       "      <td>23/09/2022</td>\n",
       "      <td>open to any type of Data Role</td>\n",
       "    </tr>\n",
       "    <tr>\n",
       "      <th>2</th>\n",
       "      <td>2</td>\n",
       "      <td>Camile</td>\n",
       "      <td>Bachelor</td>\n",
       "      <td>San Franciso</td>\n",
       "      <td>65</td>\n",
       "      <td>02/12/2021</td>\n",
       "      <td>will be available in 6 months</td>\n",
       "    </tr>\n",
       "    <tr>\n",
       "      <th>3</th>\n",
       "      <td>3</td>\n",
       "      <td>Gabriel</td>\n",
       "      <td>PhD</td>\n",
       "      <td>New York</td>\n",
       "      <td>100</td>\n",
       "      <td>25/08/2022</td>\n",
       "      <td>only interested in Senior positions</td>\n",
       "    </tr>\n",
       "    <tr>\n",
       "      <th>4</th>\n",
       "      <td>4</td>\n",
       "      <td>Steven</td>\n",
       "      <td>Master</td>\n",
       "      <td>Ohio</td>\n",
       "      <td>30</td>\n",
       "      <td>07/01/2022</td>\n",
       "      <td>can relocate to any other cities</td>\n",
       "    </tr>\n",
       "  </tbody>\n",
       "</table>\n",
       "</div>"
      ],
      "text/plain": [
       "   Unnamed: 0     Name    Degree          From  From_office(min)  \\\n",
       "0           0    Emily    Master       Arizona               120   \n",
       "1           1    Lucas    Master       Chicago                80   \n",
       "2           2   Camile  Bachelor  San Franciso                65   \n",
       "3           3  Gabriel       PhD      New York               100   \n",
       "4           4   Steven    Master          Ohio                30   \n",
       "\n",
       "  application_date                               comment  \n",
       "0      17/11/2022    more interested in Machine Learning  \n",
       "1      23/09/2022          open to any type of Data Role  \n",
       "2      02/12/2021          will be available in 6 months  \n",
       "3      25/08/2022    only interested in Senior positions  \n",
       "4      07/01/2022       can relocate to any other cities  "
      ]
     },
     "execution_count": 222,
     "metadata": {},
     "output_type": "execute_result"
    }
   ],
   "source": [
    "# Scenario 2 : Create new column for comments\n",
    "messy_df[['application_date', 'comment']] = messy_df['application_date'].str.split('#',1,expand=True)\n",
    "messy_df"
   ]
  },
  {
   "cell_type": "markdown",
   "id": "55226b26-b9d9-40fb-a662-3636f3d5c66f",
   "metadata": {},
   "source": [
    "### Print Pandas Dataframe in Tabular format from consol\n",
    "1. The **print**() function to a pandas data frame does not always render an output that is easy to read, especially for data frames with multiple columns.\n",
    "2. Use the **.to_string**() function"
   ]
  },
  {
   "cell_type": "code",
   "execution_count": 223,
   "id": "2ace047e-f2d3-4442-8c26-fc7d3c77b065",
   "metadata": {},
   "outputs": [
    {
     "name": "stdout",
     "output_type": "stream",
     "text": [
      "   state_fips    state state_abbr zipcode      county        city\n",
      "0           1  Alabama         AL   35004   St. Clair       Acmar\n",
      "1           1  Alabama         AL   35005   Jefferson  Adamsville\n",
      "2           1  Alabama         AL   35006   Jefferson       Adger\n",
      "3           1  Alabama         AL   35007      Shelby    Keystone\n",
      "4           1  Alabama         AL   35010  Tallapoosa    New site\n"
     ]
    }
   ],
   "source": [
    "data_URL = \"https://raw.githubusercontent.com/scpike/us-state-county-zip/master/geo-data.csv\"\n",
    "\n",
    "# Read your data frame\n",
    "geo_df = pd.read_csv(data_URL)\n",
    "\n",
    "# Printing without to_string() function\n",
    "print(geo_df.head())"
   ]
  },
  {
   "cell_type": "code",
   "execution_count": 224,
   "id": "5760abeb-2ba9-42a9-8843-d764f50c32e4",
   "metadata": {},
   "outputs": [
    {
     "name": "stdout",
     "output_type": "stream",
     "text": [
      "   state_fips    state state_abbr zipcode      county        city\n",
      "0           1  Alabama         AL   35004   St. Clair       Acmar\n",
      "1           1  Alabama         AL   35005   Jefferson  Adamsville\n",
      "2           1  Alabama         AL   35006   Jefferson       Adger\n",
      "3           1  Alabama         AL   35007      Shelby    Keystone\n",
      "4           1  Alabama         AL   35010  Tallapoosa    New site\n"
     ]
    }
   ],
   "source": [
    "# Printing with to_string() function\n",
    "print(geo_df.head().to_string())"
   ]
  },
  {
   "cell_type": "markdown",
   "id": "a5186886-e1fe-488c-991d-c148817da04e",
   "metadata": {},
   "source": [
    "### Highlight data points in Pandas\n",
    "To emphasize certain data points for quick analysis.\n",
    "Use **pandas.style** module which has many features :\n",
    "1. df.style.highlight_max() to assign a color to the max value of each column\n",
    "2. df.style.highlight_min() to assign a color to the min value of each column\n",
    "3. df.style.apply(my_custom_function) to apply your custom function to your data frame"
   ]
  },
  {
   "cell_type": "code",
   "execution_count": 225,
   "id": "c20ff698-54d7-4ac2-903b-50b210ff1287",
   "metadata": {},
   "outputs": [],
   "source": [
    "my_info = {\n",
    "     \"Salary\": [100000.2, 95000.9, 103000.2, 65984.1, 150987.08], \n",
    "    \"Height\": [6.5, 5.2, 5.59, 6.7, 6.92], \n",
    "    \"weight\": [185.23, 105.12, 110.3, 190.12, 200.59]     \n",
    "}\n",
    "my_data =pd.DataFrame(my_info)"
   ]
  },
  {
   "cell_type": "code",
   "execution_count": 226,
   "id": "2c57ffb4-2ef6-4bfe-99ae-88f556368b5a",
   "metadata": {},
   "outputs": [],
   "source": [
    "# Function to highlight min and max\n",
    "def highlight_min_max(data_frame, min_color, max_color):\n",
    "    # This first line creates a style object\n",
    "    final_data = data_frame.style.highlight_max(color = max_color)\n",
    "    \n",
    "    # On this second line, no need to use .style\n",
    "    final_data = final_data.highlight_min(color = min_color)\n",
    "    return final_data"
   ]
  },
  {
   "cell_type": "code",
   "execution_count": null,
   "id": "89d8c1de-db71-46df-be9e-29eac596d829",
   "metadata": {},
   "outputs": [],
   "source": [
    "highlight_min_max(my_data, min_color='orange', max_color='green')"
   ]
  },
  {
   "cell_type": "code",
   "execution_count": null,
   "id": "34a146c1-bb57-4490-b48f-31fa19096793",
   "metadata": {},
   "outputs": [],
   "source": [
    "# Custom function: apply RED or GREEN whether data is below \n",
    "# or above the mean.\n",
    "def highlight_values(data_row):\n",
    "  low_value_color = \"background-color:#C4606B  ; color: white;\"\n",
    "  high_value_color = \"background-color: #C4DE6B; color: white;\"   \n",
    "  filter = data_row < data_row.mean()\n",
    "\n",
    "  return [low_value_color if low_value else high_value_color for low_value in filter]"
   ]
  },
  {
   "cell_type": "code",
   "execution_count": null,
   "id": "6c1d69c1-1d15-4a82-84c0-30f9686bfc03",
   "metadata": {},
   "outputs": [],
   "source": [
    "# Application of my custom function to only 'Height' & 'weight'\n",
    "my_data.style.apply(highlight_values, subset=['Height', 'weight'])"
   ]
  },
  {
   "cell_type": "markdown",
   "id": "e9c5cc7e-b0e4-49d1-a3fe-bb54f2bd0e9b",
   "metadata": {},
   "source": [
    "### Reduce decimal points in your data\n",
    "Use Pandas **.DataFrame.round**() function"
   ]
  },
  {
   "cell_type": "code",
   "execution_count": 228,
   "id": "9ce52d12-d45c-4099-a572-d877521d379a",
   "metadata": {},
   "outputs": [],
   "source": [
    "long_decimals_info = {\n",
    "    \"Salary\": [100000.23400000, 95000.900300, 103000.2300535, 65984.14000450, 150987.080345], \n",
    "    \"Height\": [6.501050, 5.270000, 5.5900001050, 6.730001050, 6.92100050], \n",
    "    \"weight\": [185.23000059, 105.1200099, 110.350003, 190.12000000, 200.59000000]      \n",
    "}"
   ]
  },
  {
   "cell_type": "code",
   "execution_count": 229,
   "id": "1f546334-c6d1-4374-9e65-97fb46991de6",
   "metadata": {},
   "outputs": [],
   "source": [
    "long_decimals_df = pd.DataFrame(long_decimals_info)"
   ]
  },
  {
   "cell_type": "code",
   "execution_count": 230,
   "id": "e7251c55-60c3-446e-ba7e-d41889a1fb67",
   "metadata": {},
   "outputs": [
    {
     "data": {
      "text/html": [
       "<div>\n",
       "<style scoped>\n",
       "    .dataframe tbody tr th:only-of-type {\n",
       "        vertical-align: middle;\n",
       "    }\n",
       "\n",
       "    .dataframe tbody tr th {\n",
       "        vertical-align: top;\n",
       "    }\n",
       "\n",
       "    .dataframe thead th {\n",
       "        text-align: right;\n",
       "    }\n",
       "</style>\n",
       "<table border=\"1\" class=\"dataframe\">\n",
       "  <thead>\n",
       "    <tr style=\"text-align: right;\">\n",
       "      <th></th>\n",
       "      <th>Salary</th>\n",
       "      <th>Height</th>\n",
       "      <th>weight</th>\n",
       "    </tr>\n",
       "  </thead>\n",
       "  <tbody>\n",
       "    <tr>\n",
       "      <th>0</th>\n",
       "      <td>100000.23</td>\n",
       "      <td>6.50</td>\n",
       "      <td>185.23</td>\n",
       "    </tr>\n",
       "    <tr>\n",
       "      <th>1</th>\n",
       "      <td>95000.90</td>\n",
       "      <td>5.27</td>\n",
       "      <td>105.12</td>\n",
       "    </tr>\n",
       "    <tr>\n",
       "      <th>2</th>\n",
       "      <td>103000.23</td>\n",
       "      <td>5.59</td>\n",
       "      <td>110.35</td>\n",
       "    </tr>\n",
       "    <tr>\n",
       "      <th>3</th>\n",
       "      <td>65984.14</td>\n",
       "      <td>6.73</td>\n",
       "      <td>190.12</td>\n",
       "    </tr>\n",
       "    <tr>\n",
       "      <th>4</th>\n",
       "      <td>150987.08</td>\n",
       "      <td>6.92</td>\n",
       "      <td>200.59</td>\n",
       "    </tr>\n",
       "  </tbody>\n",
       "</table>\n",
       "</div>"
      ],
      "text/plain": [
       "      Salary  Height  weight\n",
       "0  100000.23    6.50  185.23\n",
       "1   95000.90    5.27  105.12\n",
       "2  103000.23    5.59  110.35\n",
       "3   65984.14    6.73  190.12\n",
       "4  150987.08    6.92  200.59"
      ]
     },
     "execution_count": 230,
     "metadata": {},
     "output_type": "execute_result"
    }
   ],
   "source": [
    "fewer_decimals_df = long_decimals_df.round(decimals=2)\n",
    "fewer_decimals_df"
   ]
  },
  {
   "cell_type": "markdown",
   "id": "c9e916d4-0d04-4f94-ae71-3c85f42c0cec",
   "metadata": {},
   "source": [
    "### Replace some values in your data frame\n",
    "Use Pandas **.DataFrame.replace**() function"
   ]
  },
  {
   "cell_type": "code",
   "execution_count": 231,
   "id": "06a2eb43-ce2b-4415-a781-442191b7ab9e",
   "metadata": {},
   "outputs": [],
   "source": [
    "import numpy as np"
   ]
  },
  {
   "cell_type": "code",
   "execution_count": 232,
   "id": "19fe722d-7655-4838-8672-de5b5c2cba4a",
   "metadata": {},
   "outputs": [],
   "source": [
    "client_info = {\n",
    "    'Name':[\"Emily\",\"Lucas\",\"Camile\",\"Gabriel\",\"Steven\"],\n",
    "    'Degree':['Masters','Master','Bachelor','PhD','Master'],\n",
    "    'From':['Arizona','Chicago','San Franciso','New York','Ohio'],\n",
    "    'Age':[23,26,19,np.nan,25]\n",
    "}\n",
    "\n",
    "client_df = pd.DataFrame(client_info)"
   ]
  },
  {
   "cell_type": "code",
   "execution_count": 233,
   "id": "4c508e29-d303-4e0e-b6ed-4080c65f744e",
   "metadata": {},
   "outputs": [
    {
     "data": {
      "text/html": [
       "<div>\n",
       "<style scoped>\n",
       "    .dataframe tbody tr th:only-of-type {\n",
       "        vertical-align: middle;\n",
       "    }\n",
       "\n",
       "    .dataframe tbody tr th {\n",
       "        vertical-align: top;\n",
       "    }\n",
       "\n",
       "    .dataframe thead th {\n",
       "        text-align: right;\n",
       "    }\n",
       "</style>\n",
       "<table border=\"1\" class=\"dataframe\">\n",
       "  <thead>\n",
       "    <tr style=\"text-align: right;\">\n",
       "      <th></th>\n",
       "      <th>Name</th>\n",
       "      <th>Degree</th>\n",
       "      <th>From</th>\n",
       "      <th>Age</th>\n",
       "    </tr>\n",
       "  </thead>\n",
       "  <tbody>\n",
       "    <tr>\n",
       "      <th>0</th>\n",
       "      <td>Emily</td>\n",
       "      <td>Masters</td>\n",
       "      <td>Arizona</td>\n",
       "      <td>23.0</td>\n",
       "    </tr>\n",
       "    <tr>\n",
       "      <th>1</th>\n",
       "      <td>Lucas</td>\n",
       "      <td>Master</td>\n",
       "      <td>Chicago</td>\n",
       "      <td>26.0</td>\n",
       "    </tr>\n",
       "    <tr>\n",
       "      <th>2</th>\n",
       "      <td>Camile</td>\n",
       "      <td>Bachelor</td>\n",
       "      <td>San Franciso</td>\n",
       "      <td>19.0</td>\n",
       "    </tr>\n",
       "    <tr>\n",
       "      <th>3</th>\n",
       "      <td>Gabriel</td>\n",
       "      <td>PhD</td>\n",
       "      <td>New York</td>\n",
       "      <td>NaN</td>\n",
       "    </tr>\n",
       "    <tr>\n",
       "      <th>4</th>\n",
       "      <td>Steven</td>\n",
       "      <td>Master</td>\n",
       "      <td>Ohio</td>\n",
       "      <td>25.0</td>\n",
       "    </tr>\n",
       "  </tbody>\n",
       "</table>\n",
       "</div>"
      ],
      "text/plain": [
       "      Name    Degree          From   Age\n",
       "0    Emily   Masters       Arizona  23.0\n",
       "1    Lucas    Master       Chicago  26.0\n",
       "2   Camile  Bachelor  San Franciso  19.0\n",
       "3  Gabriel       PhD      New York   NaN\n",
       "4   Steven    Master          Ohio  25.0"
      ]
     },
     "execution_count": 233,
     "metadata": {},
     "output_type": "execute_result"
    }
   ],
   "source": [
    "client_df"
   ]
  },
  {
   "cell_type": "code",
   "execution_count": 234,
   "id": "8e316bc0-786c-467d-8f5f-15d817e156b8",
   "metadata": {},
   "outputs": [
    {
     "data": {
      "text/html": [
       "<div>\n",
       "<style scoped>\n",
       "    .dataframe tbody tr th:only-of-type {\n",
       "        vertical-align: middle;\n",
       "    }\n",
       "\n",
       "    .dataframe tbody tr th {\n",
       "        vertical-align: top;\n",
       "    }\n",
       "\n",
       "    .dataframe thead th {\n",
       "        text-align: right;\n",
       "    }\n",
       "</style>\n",
       "<table border=\"1\" class=\"dataframe\">\n",
       "  <thead>\n",
       "    <tr style=\"text-align: right;\">\n",
       "      <th></th>\n",
       "      <th>Name</th>\n",
       "      <th>Degree</th>\n",
       "      <th>From</th>\n",
       "      <th>Age</th>\n",
       "    </tr>\n",
       "  </thead>\n",
       "  <tbody>\n",
       "    <tr>\n",
       "      <th>0</th>\n",
       "      <td>Emily</td>\n",
       "      <td>MS</td>\n",
       "      <td>Arizona</td>\n",
       "      <td>23.0</td>\n",
       "    </tr>\n",
       "    <tr>\n",
       "      <th>1</th>\n",
       "      <td>Lucas</td>\n",
       "      <td>MS</td>\n",
       "      <td>Chicago</td>\n",
       "      <td>26.0</td>\n",
       "    </tr>\n",
       "    <tr>\n",
       "      <th>2</th>\n",
       "      <td>Camile</td>\n",
       "      <td>Bachelor</td>\n",
       "      <td>San Franciso</td>\n",
       "      <td>19.0</td>\n",
       "    </tr>\n",
       "    <tr>\n",
       "      <th>3</th>\n",
       "      <td>Gabriel</td>\n",
       "      <td>PhD</td>\n",
       "      <td>New York</td>\n",
       "      <td>NaN</td>\n",
       "    </tr>\n",
       "    <tr>\n",
       "      <th>4</th>\n",
       "      <td>Steven</td>\n",
       "      <td>MS</td>\n",
       "      <td>Ohio</td>\n",
       "      <td>25.0</td>\n",
       "    </tr>\n",
       "  </tbody>\n",
       "</table>\n",
       "</div>"
      ],
      "text/plain": [
       "      Name    Degree          From   Age\n",
       "0    Emily        MS       Arizona  23.0\n",
       "1    Lucas        MS       Chicago  26.0\n",
       "2   Camile  Bachelor  San Franciso  19.0\n",
       "3  Gabriel       PhD      New York   NaN\n",
       "4   Steven        MS          Ohio  25.0"
      ]
     },
     "execution_count": 234,
     "metadata": {},
     "output_type": "execute_result"
    }
   ],
   "source": [
    "# Replace Masters, Master by MS\n",
    "degrees_to_replace = [\"Master\", \"Masters\"]\n",
    "client_df.replace(to_replace = degrees_to_replace, value = \"MS\",\n",
    "                  inplace = True)\n",
    "client_df"
   ]
  },
  {
   "cell_type": "code",
   "execution_count": 235,
   "id": "33a43c5c-f1d8-40c9-9721-c485c03bb5cf",
   "metadata": {},
   "outputs": [],
   "source": [
    "# Replace all the NaN by \"Missing\"\n",
    "client_df.replace(to_replace = np.nan, value = \"Missing\",\n",
    "                  inplace=True)"
   ]
  },
  {
   "cell_type": "code",
   "execution_count": 236,
   "id": "bfe40fca-14bb-456b-8cac-e0be9776f726",
   "metadata": {},
   "outputs": [
    {
     "data": {
      "text/html": [
       "<div>\n",
       "<style scoped>\n",
       "    .dataframe tbody tr th:only-of-type {\n",
       "        vertical-align: middle;\n",
       "    }\n",
       "\n",
       "    .dataframe tbody tr th {\n",
       "        vertical-align: top;\n",
       "    }\n",
       "\n",
       "    .dataframe thead th {\n",
       "        text-align: right;\n",
       "    }\n",
       "</style>\n",
       "<table border=\"1\" class=\"dataframe\">\n",
       "  <thead>\n",
       "    <tr style=\"text-align: right;\">\n",
       "      <th></th>\n",
       "      <th>Name</th>\n",
       "      <th>Degree</th>\n",
       "      <th>From</th>\n",
       "      <th>Age</th>\n",
       "    </tr>\n",
       "  </thead>\n",
       "  <tbody>\n",
       "    <tr>\n",
       "      <th>0</th>\n",
       "      <td>Emily</td>\n",
       "      <td>MS</td>\n",
       "      <td>Arizona</td>\n",
       "      <td>23.0</td>\n",
       "    </tr>\n",
       "    <tr>\n",
       "      <th>1</th>\n",
       "      <td>Lucas</td>\n",
       "      <td>MS</td>\n",
       "      <td>Chicago</td>\n",
       "      <td>26.0</td>\n",
       "    </tr>\n",
       "    <tr>\n",
       "      <th>2</th>\n",
       "      <td>Camile</td>\n",
       "      <td>Bachelor</td>\n",
       "      <td>San Franciso</td>\n",
       "      <td>19.0</td>\n",
       "    </tr>\n",
       "    <tr>\n",
       "      <th>3</th>\n",
       "      <td>Gabriel</td>\n",
       "      <td>PhD</td>\n",
       "      <td>New York</td>\n",
       "      <td>Missing</td>\n",
       "    </tr>\n",
       "    <tr>\n",
       "      <th>4</th>\n",
       "      <td>Steven</td>\n",
       "      <td>MS</td>\n",
       "      <td>Ohio</td>\n",
       "      <td>25.0</td>\n",
       "    </tr>\n",
       "  </tbody>\n",
       "</table>\n",
       "</div>"
      ],
      "text/plain": [
       "      Name    Degree          From      Age\n",
       "0    Emily        MS       Arizona     23.0\n",
       "1    Lucas        MS       Chicago     26.0\n",
       "2   Camile  Bachelor  San Franciso     19.0\n",
       "3  Gabriel       PhD      New York  Missing\n",
       "4   Steven        MS          Ohio     25.0"
      ]
     },
     "execution_count": 236,
     "metadata": {},
     "output_type": "execute_result"
    }
   ],
   "source": [
    "client_df"
   ]
  },
  {
   "cell_type": "markdown",
   "id": "76d038f3-3db3-4081-b00e-bb3a4e9e1608",
   "metadata": {},
   "source": [
    "### Compare two DataFrame and get their difference\n",
    "Use **.compare**() function \n",
    "1. It generates a data frame showing columns with differences side by side. It's shape is different from (0,0) only if the two data being compared are the same.\n",
    "2. If you want to show values that are equal, set the **keep_equal** parameter to True, otherwise, they are shown as NaN."
   ]
  },
  {
   "cell_type": "code",
   "execution_count": 237,
   "id": "09db1b77-5b44-4893-a4e2-cb6a6df7c62d",
   "metadata": {},
   "outputs": [],
   "source": [
    "student_df = pd.DataFrame(client_info)"
   ]
  },
  {
   "cell_type": "code",
   "execution_count": 238,
   "id": "0f0fb44f-169a-40cc-b68a-31406db554db",
   "metadata": {},
   "outputs": [],
   "source": [
    "# Create a second dataframe by changing \"Full_Name\" & \"Age\" columns\n",
    "student_df_test = student_df.copy()\n",
    "student_df_test.loc[0, 'Name'] = 'Emily'\n",
    "student_df_test.loc[2, 'Age'] = 19.0"
   ]
  },
  {
   "cell_type": "code",
   "execution_count": 239,
   "id": "5e2b9cb9-568d-47e4-b0c4-5706342a01c2",
   "metadata": {},
   "outputs": [
    {
     "data": {
      "text/html": [
       "<div>\n",
       "<style scoped>\n",
       "    .dataframe tbody tr th:only-of-type {\n",
       "        vertical-align: middle;\n",
       "    }\n",
       "\n",
       "    .dataframe tbody tr th {\n",
       "        vertical-align: top;\n",
       "    }\n",
       "\n",
       "    .dataframe thead tr th {\n",
       "        text-align: left;\n",
       "    }\n",
       "</style>\n",
       "<table border=\"1\" class=\"dataframe\">\n",
       "  <thead>\n",
       "  </thead>\n",
       "  <tbody>\n",
       "  </tbody>\n",
       "</table>\n",
       "</div>"
      ],
      "text/plain": [
       "Empty DataFrame\n",
       "Columns: []\n",
       "Index: []"
      ]
     },
     "execution_count": 239,
     "metadata": {},
     "output_type": "execute_result"
    }
   ],
   "source": [
    "# Compare the two dataframes : student_df and student_df_test\n",
    "## Comparison showing only unmatching values\n",
    "student_df.compare(student_df_test)"
   ]
  },
  {
   "cell_type": "code",
   "execution_count": 240,
   "id": "76d9ad7f-fdf2-43d5-8812-5d928888b951",
   "metadata": {},
   "outputs": [
    {
     "data": {
      "text/html": [
       "<div>\n",
       "<style scoped>\n",
       "    .dataframe tbody tr th:only-of-type {\n",
       "        vertical-align: middle;\n",
       "    }\n",
       "\n",
       "    .dataframe tbody tr th {\n",
       "        vertical-align: top;\n",
       "    }\n",
       "\n",
       "    .dataframe thead tr th {\n",
       "        text-align: left;\n",
       "    }\n",
       "</style>\n",
       "<table border=\"1\" class=\"dataframe\">\n",
       "  <thead>\n",
       "  </thead>\n",
       "  <tbody>\n",
       "  </tbody>\n",
       "</table>\n",
       "</div>"
      ],
      "text/plain": [
       "Empty DataFrame\n",
       "Columns: []\n",
       "Index: []"
      ]
     },
     "execution_count": 240,
     "metadata": {},
     "output_type": "execute_result"
    }
   ],
   "source": [
    "## Comparison including similar values\n",
    "student_df.compare(student_df_test, keep_equal=True)"
   ]
  },
  {
   "cell_type": "markdown",
   "id": "74c79dac-f52d-4ea2-9d1f-434c48bfba76",
   "metadata": {},
   "source": [
    "### Get a subset of a very large dataset for quick analysis\n",
    "Use **nrows** parameter in the pandas **read_csv**() function by specifying the num of rows you want"
   ]
  },
  {
   "cell_type": "code",
   "execution_count": 241,
   "id": "3c657e15-26a2-473a-b390-4fe448cdb9a8",
   "metadata": {},
   "outputs": [],
   "source": [
    "URL = \"https://raw.githubusercontent.com/scpike/us-state-county-zip/master/geo-data.csv\""
   ]
  },
  {
   "cell_type": "code",
   "execution_count": 242,
   "id": "748531e6-be3a-46b0-8615-3cbaef148ef1",
   "metadata": {},
   "outputs": [],
   "source": [
    "read_whole_data = pd.read_csv(URL)"
   ]
  },
  {
   "cell_type": "code",
   "execution_count": 243,
   "id": "ef295a54-2e4d-468c-b50a-0a7db9a6ec7d",
   "metadata": {},
   "outputs": [
    {
     "data": {
      "text/plain": [
       "198618"
      ]
     },
     "execution_count": 243,
     "metadata": {},
     "output_type": "execute_result"
    }
   ],
   "source": [
    "read_whole_data.size"
   ]
  },
  {
   "cell_type": "code",
   "execution_count": 244,
   "id": "42558f54-64c6-4083-8e4d-5cfad322e076",
   "metadata": {},
   "outputs": [],
   "source": [
    "# Read all the data in memory before getting the sample\n",
    "sample_size = 400\n",
    "sample_data = read_whole_data.head(sample_size)"
   ]
  },
  {
   "cell_type": "code",
   "execution_count": 245,
   "id": "1d26f001-32b4-41a8-b4c2-3221d7381b87",
   "metadata": {},
   "outputs": [
    {
     "data": {
      "text/plain": [
       "2400"
      ]
     },
     "execution_count": 245,
     "metadata": {},
     "output_type": "execute_result"
    }
   ],
   "source": [
    "sample_data.size"
   ]
  },
  {
   "cell_type": "code",
   "execution_count": 246,
   "id": "26f57dbb-5509-4ad6-8d55-c9ca8d7e9209",
   "metadata": {},
   "outputs": [],
   "source": [
    "# Read the sample on the fly\n",
    "read_sample = pd.read_csv(URL, nrows=sample_size)"
   ]
  },
  {
   "cell_type": "code",
   "execution_count": 247,
   "id": "165baabe-7add-4ed5-862d-93ac6921c6d3",
   "metadata": {},
   "outputs": [
    {
     "data": {
      "text/plain": [
       "2400"
      ]
     },
     "execution_count": 247,
     "metadata": {},
     "output_type": "execute_result"
    }
   ],
   "source": [
    "read_sample.size"
   ]
  },
  {
   "cell_type": "markdown",
   "id": "a51b5da9-5bc8-4277-80a0-5d2ddc31aab9",
   "metadata": {},
   "source": [
    "### Transform your DataFrame from a wide to a long format\n",
    "1. Wide format is when you've a lot of cols\n",
    "2. Long format on the other side is when you've lot of rows\n",
    "\n",
    "Pandas **.melt**() is perfect candidate for this task"
   ]
  },
  {
   "cell_type": "code",
   "execution_count": 248,
   "id": "8e9727a8-748f-44a2-8b0e-638dab3a839c",
   "metadata": {},
   "outputs": [],
   "source": [
    "candidates= {\n",
    "    'Name':[\"Emily\",\"Adrian\",\"Gabriel\",\"Cindy\"],\n",
    "    'ID': [1, 2, 3, 4],\n",
    "    '2017':[85, 87, 89, 91],\n",
    "    '2018':[96, 98, 100, 102],\n",
    "    '2019':[100, 102, 106, 106],\n",
    "    '2020':[89, 95, 98, 100],\n",
    "    '2021':[94, 96, 98, 100],\n",
    "    '2022':[100, 104, 104, 107],\n",
    "          }"
   ]
  },
  {
   "cell_type": "code",
   "execution_count": 249,
   "id": "94314f68-2337-4b1d-a5f0-1ddc21a22974",
   "metadata": {},
   "outputs": [],
   "source": [
    "# Data in wide format\n",
    "salary_data = pd.DataFrame(candidates)"
   ]
  },
  {
   "cell_type": "code",
   "execution_count": 250,
   "id": "8c1912fa-5190-43c2-afdd-e81d8b6b0e32",
   "metadata": {},
   "outputs": [
    {
     "data": {
      "text/html": [
       "<div>\n",
       "<style scoped>\n",
       "    .dataframe tbody tr th:only-of-type {\n",
       "        vertical-align: middle;\n",
       "    }\n",
       "\n",
       "    .dataframe tbody tr th {\n",
       "        vertical-align: top;\n",
       "    }\n",
       "\n",
       "    .dataframe thead th {\n",
       "        text-align: right;\n",
       "    }\n",
       "</style>\n",
       "<table border=\"1\" class=\"dataframe\">\n",
       "  <thead>\n",
       "    <tr style=\"text-align: right;\">\n",
       "      <th></th>\n",
       "      <th>Name</th>\n",
       "      <th>ID</th>\n",
       "      <th>2017</th>\n",
       "      <th>2018</th>\n",
       "      <th>2019</th>\n",
       "      <th>2020</th>\n",
       "      <th>2021</th>\n",
       "      <th>2022</th>\n",
       "    </tr>\n",
       "  </thead>\n",
       "  <tbody>\n",
       "    <tr>\n",
       "      <th>0</th>\n",
       "      <td>Emily</td>\n",
       "      <td>1</td>\n",
       "      <td>85</td>\n",
       "      <td>96</td>\n",
       "      <td>100</td>\n",
       "      <td>89</td>\n",
       "      <td>94</td>\n",
       "      <td>100</td>\n",
       "    </tr>\n",
       "    <tr>\n",
       "      <th>1</th>\n",
       "      <td>Adrian</td>\n",
       "      <td>2</td>\n",
       "      <td>87</td>\n",
       "      <td>98</td>\n",
       "      <td>102</td>\n",
       "      <td>95</td>\n",
       "      <td>96</td>\n",
       "      <td>104</td>\n",
       "    </tr>\n",
       "    <tr>\n",
       "      <th>2</th>\n",
       "      <td>Gabriel</td>\n",
       "      <td>3</td>\n",
       "      <td>89</td>\n",
       "      <td>100</td>\n",
       "      <td>106</td>\n",
       "      <td>98</td>\n",
       "      <td>98</td>\n",
       "      <td>104</td>\n",
       "    </tr>\n",
       "    <tr>\n",
       "      <th>3</th>\n",
       "      <td>Cindy</td>\n",
       "      <td>4</td>\n",
       "      <td>91</td>\n",
       "      <td>102</td>\n",
       "      <td>106</td>\n",
       "      <td>100</td>\n",
       "      <td>100</td>\n",
       "      <td>107</td>\n",
       "    </tr>\n",
       "  </tbody>\n",
       "</table>\n",
       "</div>"
      ],
      "text/plain": [
       "      Name  ID  2017  2018  2019  2020  2021  2022\n",
       "0    Emily   1    85    96   100    89    94   100\n",
       "1   Adrian   2    87    98   102    95    96   104\n",
       "2  Gabriel   3    89   100   106    98    98   104\n",
       "3    Cindy   4    91   102   106   100   100   107"
      ]
     },
     "execution_count": 250,
     "metadata": {},
     "output_type": "execute_result"
    }
   ],
   "source": [
    "salary_data"
   ]
  },
  {
   "cell_type": "code",
   "execution_count": 251,
   "id": "af3ff29b-4448-48a4-bd7e-4d6f719237e9",
   "metadata": {},
   "outputs": [],
   "source": [
    "# Transform into the long format\n",
    "long_format_data = salary_data.melt(id_vars=['Name', 'ID'],\n",
    "                                    var_name='Year',\n",
    "                                    value_name='Salary(k$)')"
   ]
  },
  {
   "cell_type": "code",
   "execution_count": 252,
   "id": "93b4f3c0-6cdb-4148-adec-2f68ba60e86e",
   "metadata": {},
   "outputs": [
    {
     "data": {
      "text/html": [
       "<div>\n",
       "<style scoped>\n",
       "    .dataframe tbody tr th:only-of-type {\n",
       "        vertical-align: middle;\n",
       "    }\n",
       "\n",
       "    .dataframe tbody tr th {\n",
       "        vertical-align: top;\n",
       "    }\n",
       "\n",
       "    .dataframe thead th {\n",
       "        text-align: right;\n",
       "    }\n",
       "</style>\n",
       "<table border=\"1\" class=\"dataframe\">\n",
       "  <thead>\n",
       "    <tr style=\"text-align: right;\">\n",
       "      <th></th>\n",
       "      <th>Name</th>\n",
       "      <th>ID</th>\n",
       "      <th>Year</th>\n",
       "      <th>Salary(k$)</th>\n",
       "    </tr>\n",
       "  </thead>\n",
       "  <tbody>\n",
       "    <tr>\n",
       "      <th>0</th>\n",
       "      <td>Emily</td>\n",
       "      <td>1</td>\n",
       "      <td>2017</td>\n",
       "      <td>85</td>\n",
       "    </tr>\n",
       "    <tr>\n",
       "      <th>1</th>\n",
       "      <td>Adrian</td>\n",
       "      <td>2</td>\n",
       "      <td>2017</td>\n",
       "      <td>87</td>\n",
       "    </tr>\n",
       "    <tr>\n",
       "      <th>2</th>\n",
       "      <td>Gabriel</td>\n",
       "      <td>3</td>\n",
       "      <td>2017</td>\n",
       "      <td>89</td>\n",
       "    </tr>\n",
       "    <tr>\n",
       "      <th>3</th>\n",
       "      <td>Cindy</td>\n",
       "      <td>4</td>\n",
       "      <td>2017</td>\n",
       "      <td>91</td>\n",
       "    </tr>\n",
       "    <tr>\n",
       "      <th>4</th>\n",
       "      <td>Emily</td>\n",
       "      <td>1</td>\n",
       "      <td>2018</td>\n",
       "      <td>96</td>\n",
       "    </tr>\n",
       "    <tr>\n",
       "      <th>5</th>\n",
       "      <td>Adrian</td>\n",
       "      <td>2</td>\n",
       "      <td>2018</td>\n",
       "      <td>98</td>\n",
       "    </tr>\n",
       "    <tr>\n",
       "      <th>6</th>\n",
       "      <td>Gabriel</td>\n",
       "      <td>3</td>\n",
       "      <td>2018</td>\n",
       "      <td>100</td>\n",
       "    </tr>\n",
       "    <tr>\n",
       "      <th>7</th>\n",
       "      <td>Cindy</td>\n",
       "      <td>4</td>\n",
       "      <td>2018</td>\n",
       "      <td>102</td>\n",
       "    </tr>\n",
       "    <tr>\n",
       "      <th>8</th>\n",
       "      <td>Emily</td>\n",
       "      <td>1</td>\n",
       "      <td>2019</td>\n",
       "      <td>100</td>\n",
       "    </tr>\n",
       "    <tr>\n",
       "      <th>9</th>\n",
       "      <td>Adrian</td>\n",
       "      <td>2</td>\n",
       "      <td>2019</td>\n",
       "      <td>102</td>\n",
       "    </tr>\n",
       "    <tr>\n",
       "      <th>10</th>\n",
       "      <td>Gabriel</td>\n",
       "      <td>3</td>\n",
       "      <td>2019</td>\n",
       "      <td>106</td>\n",
       "    </tr>\n",
       "    <tr>\n",
       "      <th>11</th>\n",
       "      <td>Cindy</td>\n",
       "      <td>4</td>\n",
       "      <td>2019</td>\n",
       "      <td>106</td>\n",
       "    </tr>\n",
       "    <tr>\n",
       "      <th>12</th>\n",
       "      <td>Emily</td>\n",
       "      <td>1</td>\n",
       "      <td>2020</td>\n",
       "      <td>89</td>\n",
       "    </tr>\n",
       "    <tr>\n",
       "      <th>13</th>\n",
       "      <td>Adrian</td>\n",
       "      <td>2</td>\n",
       "      <td>2020</td>\n",
       "      <td>95</td>\n",
       "    </tr>\n",
       "    <tr>\n",
       "      <th>14</th>\n",
       "      <td>Gabriel</td>\n",
       "      <td>3</td>\n",
       "      <td>2020</td>\n",
       "      <td>98</td>\n",
       "    </tr>\n",
       "    <tr>\n",
       "      <th>15</th>\n",
       "      <td>Cindy</td>\n",
       "      <td>4</td>\n",
       "      <td>2020</td>\n",
       "      <td>100</td>\n",
       "    </tr>\n",
       "    <tr>\n",
       "      <th>16</th>\n",
       "      <td>Emily</td>\n",
       "      <td>1</td>\n",
       "      <td>2021</td>\n",
       "      <td>94</td>\n",
       "    </tr>\n",
       "    <tr>\n",
       "      <th>17</th>\n",
       "      <td>Adrian</td>\n",
       "      <td>2</td>\n",
       "      <td>2021</td>\n",
       "      <td>96</td>\n",
       "    </tr>\n",
       "    <tr>\n",
       "      <th>18</th>\n",
       "      <td>Gabriel</td>\n",
       "      <td>3</td>\n",
       "      <td>2021</td>\n",
       "      <td>98</td>\n",
       "    </tr>\n",
       "    <tr>\n",
       "      <th>19</th>\n",
       "      <td>Cindy</td>\n",
       "      <td>4</td>\n",
       "      <td>2021</td>\n",
       "      <td>100</td>\n",
       "    </tr>\n",
       "    <tr>\n",
       "      <th>20</th>\n",
       "      <td>Emily</td>\n",
       "      <td>1</td>\n",
       "      <td>2022</td>\n",
       "      <td>100</td>\n",
       "    </tr>\n",
       "    <tr>\n",
       "      <th>21</th>\n",
       "      <td>Adrian</td>\n",
       "      <td>2</td>\n",
       "      <td>2022</td>\n",
       "      <td>104</td>\n",
       "    </tr>\n",
       "    <tr>\n",
       "      <th>22</th>\n",
       "      <td>Gabriel</td>\n",
       "      <td>3</td>\n",
       "      <td>2022</td>\n",
       "      <td>104</td>\n",
       "    </tr>\n",
       "    <tr>\n",
       "      <th>23</th>\n",
       "      <td>Cindy</td>\n",
       "      <td>4</td>\n",
       "      <td>2022</td>\n",
       "      <td>107</td>\n",
       "    </tr>\n",
       "  </tbody>\n",
       "</table>\n",
       "</div>"
      ],
      "text/plain": [
       "       Name  ID  Year  Salary(k$)\n",
       "0     Emily   1  2017          85\n",
       "1    Adrian   2  2017          87\n",
       "2   Gabriel   3  2017          89\n",
       "3     Cindy   4  2017          91\n",
       "4     Emily   1  2018          96\n",
       "5    Adrian   2  2018          98\n",
       "6   Gabriel   3  2018         100\n",
       "7     Cindy   4  2018         102\n",
       "8     Emily   1  2019         100\n",
       "9    Adrian   2  2019         102\n",
       "10  Gabriel   3  2019         106\n",
       "11    Cindy   4  2019         106\n",
       "12    Emily   1  2020          89\n",
       "13   Adrian   2  2020          95\n",
       "14  Gabriel   3  2020          98\n",
       "15    Cindy   4  2020         100\n",
       "16    Emily   1  2021          94\n",
       "17   Adrian   2  2021          96\n",
       "18  Gabriel   3  2021          98\n",
       "19    Cindy   4  2021         100\n",
       "20    Emily   1  2022         100\n",
       "21   Adrian   2  2022         104\n",
       "22  Gabriel   3  2022         104\n",
       "23    Cindy   4  2022         107"
      ]
     },
     "execution_count": 252,
     "metadata": {},
     "output_type": "execute_result"
    }
   ],
   "source": [
    "long_format_data"
   ]
  },
  {
   "cell_type": "markdown",
   "id": "bf17e46a-5ddc-4161-b545-4eb1e8608dec",
   "metadata": {},
   "source": [
    "### Reduce the size of your Pandas DataFrame by ignoring the index"
   ]
  },
  {
   "cell_type": "code",
   "execution_count": null,
   "id": "c7f84972-4330-4cc2-8954-195ec1be0c6f",
   "metadata": {},
   "outputs": [],
   "source": [
    "URL = \"https://raw.githubusercontent.com/scpike/us-state-county-zip/master/geo-data.csv\"\n",
    "data = pd.read_csv(URL)"
   ]
  },
  {
   "cell_type": "code",
   "execution_count": null,
   "id": "3fc6f695-e2f2-41b1-9bfe-08f6509d6caa",
   "metadata": {},
   "outputs": [],
   "source": [
    "# Create large data by repeating each row 10000 times\n",
    "large_data = data.loc[data.index.repeat(10000)]"
   ]
  },
  {
   "cell_type": "code",
   "execution_count": null,
   "id": "fbb96f43-d282-4ed4-a9c9-37263377b0a8",
   "metadata": {},
   "outputs": [],
   "source": [
    "# Save with INDEX\n",
    "large_data.to_csv(\"large_data_with_index.csv\")"
   ]
  },
  {
   "cell_type": "code",
   "execution_count": null,
   "id": "0c77bd81-e1a5-4e42-a200-6ba8dd9a5256",
   "metadata": {},
   "outputs": [],
   "source": [
    "# Check the size of the file\n",
    "!ls -GFlash large_data_with_index.csv"
   ]
  },
  {
   "cell_type": "code",
   "execution_count": null,
   "id": "d6811cce-b326-4dc8-8ca3-81316c7082b9",
   "metadata": {},
   "outputs": [],
   "source": [
    "# Save without INDEX\n",
    "large_data.to_csv(\"large_data_without_index.csv\", index=False)"
   ]
  },
  {
   "cell_type": "code",
   "execution_count": null,
   "id": "5afb1235-6cf9-4034-9524-a71ce5f7182b",
   "metadata": {},
   "outputs": [],
   "source": [
    "# Check the size of the file\n",
    "!ls -GFlash large_data_without_index.csv"
   ]
  },
  {
   "cell_type": "markdown",
   "id": "642de01b-cd16-4f6e-93e7-45abeaef252f",
   "metadata": {},
   "source": [
    "### Parquet instead of CSV\n",
    "1. Processing speed\n",
    "2. Speed in saving and loading\n",
    "3. Disk space occupied by the data frame"
   ]
  },
  {
   "cell_type": "code",
   "execution_count": null,
   "id": "2d765f6c-e2ba-45f7-a3ab-fc860ebed063",
   "metadata": {},
   "outputs": [],
   "source": [
    "URL = \"https://raw.githubusercontent.com/scpike/us-state-county-zip/master/geo-data.csv\"\n",
    "df = pd.read_csv(URL)\n",
    "# Create large data for experimentation by repeating each row 20000 times\n",
    "exp_data = df.loc[data.index.repeat(20000)]"
   ]
  },
  {
   "cell_type": "code",
   "execution_count": null,
   "id": "1e5c2a22-50c3-4fd5-a4e0-b5429c67778d",
   "metadata": {},
   "outputs": [],
   "source": [
    "# Experiment with .csv format\n",
    "# Write Time\n",
    "%%time \n",
    "exp_data.to_csv(\"exp_data.csv\", index=False)\n",
    "\n",
    "# Read Time\n",
    "%%time\n",
    "csv_data = pd.read_csv(\"exp_data.csv\")\n",
    "\n",
    "# File Size\n",
    "!ls -GFlash exp_data.csv"
   ]
  },
  {
   "cell_type": "code",
   "execution_count": null,
   "id": "b7b04d2d-1894-439b-8fd2-8446fb64dc33",
   "metadata": {},
   "outputs": [],
   "source": [
    "# Experiment with .parquet format\n",
    "# Write Time\n",
    "%%time \n",
    "exp_data.to_parquet('exp_data.parquet')\n",
    "\n",
    "# Read Time\n",
    "%%time \n",
    "parquet_data = pd.read_parquet('exp_data.parquet')\n",
    "\n",
    "# File Size\n",
    "!ls -GFlash exp_data.parquet   "
   ]
  },
  {
   "cell_type": "markdown",
   "id": "4ef60eb4-facf-4240-97c3-1113cad7cc60",
   "metadata": {},
   "source": [
    "### Transform your data frame into a markdown\n",
    "One way of doing that is to render it in a markdown format using **.to_markdown**() function"
   ]
  },
  {
   "cell_type": "code",
   "execution_count": 253,
   "id": "22dd861b-742e-4d3e-9283-e13178fdc129",
   "metadata": {},
   "outputs": [],
   "source": [
    "URL = \"https://raw.githubusercontent.com/scpike/us-state-county-zip/master/geo-data.csv\"\n",
    "df = pd.read_csv(URL)\n",
    "head_df = df.head()"
   ]
  },
  {
   "cell_type": "code",
   "execution_count": 254,
   "id": "9f1f8d3a-52e6-4a9c-ae7b-c1958e5dd5b7",
   "metadata": {},
   "outputs": [
    {
     "name": "stdout",
     "output_type": "stream",
     "text": [
      "   state_fips    state state_abbr zipcode      county        city\n",
      "0           1  Alabama         AL   35004   St. Clair       Acmar\n",
      "1           1  Alabama         AL   35005   Jefferson  Adamsville\n",
      "2           1  Alabama         AL   35006   Jefferson       Adger\n",
      "3           1  Alabama         AL   35007      Shelby    Keystone\n",
      "4           1  Alabama         AL   35010  Tallapoosa    New site\n"
     ]
    }
   ],
   "source": [
    "print(head_df)"
   ]
  },
  {
   "cell_type": "code",
   "execution_count": 255,
   "id": "a507534e-2ba2-410d-b19f-e7e46743423f",
   "metadata": {},
   "outputs": [
    {
     "name": "stdout",
     "output_type": "stream",
     "text": [
      "+----+--------------+---------+--------------+-----------+------------+------------+\n",
      "|    |   state_fips | state   | state_abbr   |   zipcode | county     | city       |\n",
      "+====+==============+=========+==============+===========+============+============+\n",
      "|  0 |            1 | Alabama | AL           |     35004 | St. Clair  | Acmar      |\n",
      "+----+--------------+---------+--------------+-----------+------------+------------+\n",
      "|  1 |            1 | Alabama | AL           |     35005 | Jefferson  | Adamsville |\n",
      "+----+--------------+---------+--------------+-----------+------------+------------+\n",
      "|  2 |            1 | Alabama | AL           |     35006 | Jefferson  | Adger      |\n",
      "+----+--------------+---------+--------------+-----------+------------+------------+\n",
      "|  3 |            1 | Alabama | AL           |     35007 | Shelby     | Keystone   |\n",
      "+----+--------------+---------+--------------+-----------+------------+------------+\n",
      "|  4 |            1 | Alabama | AL           |     35010 | Tallapoosa | New site   |\n",
      "+----+--------------+---------+--------------+-----------+------------+------------+\n"
     ]
    }
   ],
   "source": [
    "print(head_df.to_markdown(tablefmt=\"grid\"))"
   ]
  },
  {
   "cell_type": "markdown",
   "id": "fe4277fc-08b3-40c4-b50c-9804bb7a056d",
   "metadata": {},
   "source": [
    "### Format Date Time Column\n",
    "Specify the target column in the **parse_dates** argument to get the correct column type"
   ]
  },
  {
   "cell_type": "code",
   "execution_count": 256,
   "id": "13ba69a8-2920-4529-8746-817f099d00b4",
   "metadata": {},
   "outputs": [],
   "source": [
    "df_info = {\n",
    "    'Name':[\"Emily\",\"Lucas\",\"Camile\",\"Gabriel\",\"Steven\"],\n",
    "    'Degree':['Master','Master','Bachelor','PhD','Master'],\n",
    "    'From':['Arizona','Chicago','San Franciso','New York','Ohio'],\n",
    "    'From_office(min)':[120,80,65,100,30],\n",
    "    'application_date':[\n",
    "                    '17/11/2022',\n",
    "                    '23/09/2022',\n",
    "                    '02/12/2021',\n",
    "                    '25/08/2022',\n",
    "                    '07/01/2022'\n",
    "    ]\n",
    "}"
   ]
  },
  {
   "cell_type": "code",
   "execution_count": 257,
   "id": "dd956f91-2ee5-4e59-88d5-683d2710cd90",
   "metadata": {},
   "outputs": [],
   "source": [
    "student_df = pd.DataFrame(df_info)"
   ]
  },
  {
   "cell_type": "code",
   "execution_count": 258,
   "id": "58ef65c6-870c-4202-8afe-cc7dc44d2b26",
   "metadata": {},
   "outputs": [
    {
     "name": "stdout",
     "output_type": "stream",
     "text": [
      "<class 'pandas.core.frame.DataFrame'>\n",
      "RangeIndex: 5 entries, 0 to 4\n",
      "Data columns (total 5 columns):\n",
      " #   Column            Non-Null Count  Dtype \n",
      "---  ------            --------------  ----- \n",
      " 0   Name              5 non-null      object\n",
      " 1   Degree            5 non-null      object\n",
      " 2   From              5 non-null      object\n",
      " 3   From_office(min)  5 non-null      int64 \n",
      " 4   application_date  5 non-null      object\n",
      "dtypes: int64(1), object(4)\n",
      "memory usage: 328.0+ bytes\n"
     ]
    }
   ],
   "source": [
    "student_df.info()"
   ]
  },
  {
   "cell_type": "code",
   "execution_count": 259,
   "id": "28e68741-9cb2-4048-a24e-0f024d529afd",
   "metadata": {},
   "outputs": [],
   "source": [
    "student_df.to_csv(\"student.csv\")"
   ]
  },
  {
   "cell_type": "code",
   "execution_count": 260,
   "id": "4e7f0e8c-adf3-4f6c-87a1-66828adf64fd",
   "metadata": {},
   "outputs": [],
   "source": [
    "student_df = pd.read_csv(\"student.csv\",\n",
    "                          parse_dates=[\"application_date\"])"
   ]
  },
  {
   "cell_type": "code",
   "execution_count": 261,
   "id": "5f2316b4-9951-4469-b443-58398aa1e87b",
   "metadata": {},
   "outputs": [
    {
     "name": "stdout",
     "output_type": "stream",
     "text": [
      "<class 'pandas.core.frame.DataFrame'>\n",
      "RangeIndex: 5 entries, 0 to 4\n",
      "Data columns (total 6 columns):\n",
      " #   Column            Non-Null Count  Dtype         \n",
      "---  ------            --------------  -----         \n",
      " 0   Unnamed: 0        5 non-null      int64         \n",
      " 1   Name              5 non-null      object        \n",
      " 2   Degree            5 non-null      object        \n",
      " 3   From              5 non-null      object        \n",
      " 4   From_office(min)  5 non-null      int64         \n",
      " 5   application_date  5 non-null      datetime64[ns]\n",
      "dtypes: datetime64[ns](1), int64(2), object(3)\n",
      "memory usage: 368.0+ bytes\n"
     ]
    }
   ],
   "source": [
    "student_df.info()"
   ]
  }
 ],
 "metadata": {
  "kernelspec": {
   "display_name": "Python 3 (ipykernel)",
   "language": "python",
   "name": "python3"
  },
  "language_info": {
   "codemirror_mode": {
    "name": "ipython",
    "version": 3
   },
   "file_extension": ".py",
   "mimetype": "text/x-python",
   "name": "python",
   "nbconvert_exporter": "python",
   "pygments_lexer": "ipython3",
   "version": "3.9.7"
  }
 },
 "nbformat": 4,
 "nbformat_minor": 5
}

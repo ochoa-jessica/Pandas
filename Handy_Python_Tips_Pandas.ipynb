{
 "cells": [
  {
   "cell_type": "code",
   "execution_count": 1,
   "id": "127f9c4f-4eb0-4ebb-b96b-ea96cd6e0c2a",
   "metadata": {},
   "outputs": [],
   "source": [
    "!pip -q install rich"
   ]
  },
  {
   "cell_type": "code",
   "execution_count": 2,
   "id": "f530a126-71e9-4d04-8dbe-1d10c315ae37",
   "metadata": {},
   "outputs": [],
   "source": [
    "from rich.progress import track"
   ]
  },
  {
   "cell_type": "code",
   "execution_count": 3,
   "id": "c38b0439-28e4-473e-8066-c7d8d995debc",
   "metadata": {},
   "outputs": [],
   "source": [
    "from tqdm import tqdm\n",
    "import time"
   ]
  },
  {
   "cell_type": "markdown",
   "id": "a43c30c5-5995-4175-a0b6-35c480bb2ad9",
   "metadata": {},
   "source": [
    "### Create a progress bar with tqdm and rich\n",
    "Using the progress bar is beneficial when you want to have a visual status of a given task"
   ]
  },
  {
   "cell_type": "code",
   "execution_count": 4,
   "id": "2dd4120c-f1ea-4157-b468-3fc945b02b4d",
   "metadata": {},
   "outputs": [],
   "source": [
    "# Implement the callback function\n",
    "def compute_double(x):\n",
    "    return 2*x"
   ]
  },
  {
   "cell_type": "code",
   "execution_count": 5,
   "id": "8b4f9e86-2043-4876-9974-f63be0a056bf",
   "metadata": {},
   "outputs": [
    {
     "data": {
      "application/vnd.jupyter.widget-view+json": {
       "model_id": "40eae29a6a9f4c808bc4e4863386dee6",
       "version_major": 2,
       "version_minor": 0
      },
      "text/plain": [
       "Output()"
      ]
     },
     "metadata": {},
     "output_type": "display_data"
    },
    {
     "data": {
      "text/html": [
       "<pre style=\"white-space:pre;overflow-x:auto;line-height:normal;font-family:Menlo,'DejaVu Sans Mono',consolas,'Courier New',monospace\"></pre>\n"
      ],
      "text/plain": []
     },
     "metadata": {},
     "output_type": "display_data"
    },
    {
     "data": {
      "text/html": [
       "<pre style=\"white-space:pre;overflow-x:auto;line-height:normal;font-family:Menlo,'DejaVu Sans Mono',consolas,'Courier New',monospace\">\n",
       "</pre>\n"
      ],
      "text/plain": [
       "\n"
      ]
     },
     "metadata": {},
     "output_type": "display_data"
    }
   ],
   "source": [
    "# Create a progress bar - Rich Progress Bar Implementation\n",
    "final_dict_doubles = {}\n",
    "\n",
    "for i in track(range(20), description=\"Computing 2.n...\"):\n",
    "    final_dict_doubles[f\"Value = {i}\"] = f\"double = {compute_double(i)}\"\n",
    "    \n",
    "    # Sleep the process to highlight the progress\n",
    "    time.sleep(0.8)"
   ]
  },
  {
   "cell_type": "code",
   "execution_count": 6,
   "id": "98a2338f-7df0-4d94-893c-9603a01f3f5b",
   "metadata": {},
   "outputs": [
    {
     "name": "stderr",
     "output_type": "stream",
     "text": [
      "Computing 2.n...: 100%|██████████| 20/20 [00:20<00:00,  1.01s/it]\n"
     ]
    }
   ],
   "source": [
    "# Create a progress bar - TQDM Progress Bar Implementation\n",
    "for i in tqdm(range(20), desc=\"Computing 2.n...\"):\n",
    "    final_dict_doubles[f\"Value = {i}\"] = f\"double = {compute_double(i)}\"\n",
    "    \n",
    "    # Sleep the process to highlight the progress\n",
    "    time.sleep(1)"
   ]
  },
  {
   "cell_type": "markdown",
   "id": "9fe9bc15-ea94-4398-b851-efb30e9d4317",
   "metadata": {},
   "source": [
    "### Get day, month, year, day of the week, the month of the year"
   ]
  },
  {
   "cell_type": "code",
   "execution_count": 8,
   "id": "fbb53f27-c583-4646-9aa7-b85feeeb8540",
   "metadata": {},
   "outputs": [],
   "source": [
    "import pandas as pd\n",
    "candidate_info = {\n",
    "     'Name':[\"Aisha\",\"Vinod\",\"Pia\",\"Maya\",\"Kanika\", \"Mohan\"],\n",
    "    'Degree':['Master','Master','Bachelor', \"PhD\", \"Master\", \"PhD\"],\n",
    "    'From':[\"Ahmedabad\",\"Mumbai\",\"Delhi\", \"Pune\",\"Bangalore\", \"Kerala\"],\n",
    "    'Application_date': ['11/17/2022', '09/23/2022', '12/2/2021', \n",
    "                         '08/25/2022', '01/07/2022', '12/26/2022']\n",
    "}\n",
    "# Read the dataframe\n",
    "candidate_df = pd.DataFrame(candidate_info)"
   ]
  },
  {
   "cell_type": "code",
   "execution_count": 10,
   "id": "d25093f9-b932-46dd-9c64-15e325c78d0e",
   "metadata": {},
   "outputs": [],
   "source": [
    "# Format datetime \n",
    "candidate_df['Application_date'] = pd.to_datetime(candidate_df[\"Application_date\"])"
   ]
  },
  {
   "cell_type": "code",
   "execution_count": 11,
   "id": "1c264d53-2fed-469c-a6b9-22e9432e63a8",
   "metadata": {},
   "outputs": [],
   "source": [
    "# GET the Values\n",
    "application_date = candidate_df[\"Application_date\"]\n",
    "\n",
    "candidate_df[\"Day\"] = application_date.dt.day\n",
    "candidate_df[\"Month\"] = application_date.dt.month\n",
    "candidate_df[\"Year\"] = application_date.dt.year\n",
    "candidate_df[\"Day_of_week\"] = application_date.dt.day_name()\n",
    "candidate_df[\"Month_of_year\"] = application_date.dt.month_name()"
   ]
  },
  {
   "cell_type": "code",
   "execution_count": 12,
   "id": "1b95a1dd-b3e0-49b2-a876-57717f9feb9d",
   "metadata": {},
   "outputs": [
    {
     "data": {
      "text/html": [
       "<div>\n",
       "<style scoped>\n",
       "    .dataframe tbody tr th:only-of-type {\n",
       "        vertical-align: middle;\n",
       "    }\n",
       "\n",
       "    .dataframe tbody tr th {\n",
       "        vertical-align: top;\n",
       "    }\n",
       "\n",
       "    .dataframe thead th {\n",
       "        text-align: right;\n",
       "    }\n",
       "</style>\n",
       "<table border=\"1\" class=\"dataframe\">\n",
       "  <thead>\n",
       "    <tr style=\"text-align: right;\">\n",
       "      <th></th>\n",
       "      <th>Name</th>\n",
       "      <th>Degree</th>\n",
       "      <th>From</th>\n",
       "      <th>Application_date</th>\n",
       "      <th>Day</th>\n",
       "      <th>Month</th>\n",
       "      <th>Year</th>\n",
       "      <th>Day_of_week</th>\n",
       "      <th>Month_of_year</th>\n",
       "    </tr>\n",
       "  </thead>\n",
       "  <tbody>\n",
       "    <tr>\n",
       "      <th>0</th>\n",
       "      <td>Aisha</td>\n",
       "      <td>Master</td>\n",
       "      <td>Ahmedabad</td>\n",
       "      <td>2022-11-17</td>\n",
       "      <td>17</td>\n",
       "      <td>11</td>\n",
       "      <td>2022</td>\n",
       "      <td>Thursday</td>\n",
       "      <td>November</td>\n",
       "    </tr>\n",
       "    <tr>\n",
       "      <th>1</th>\n",
       "      <td>Vinod</td>\n",
       "      <td>Master</td>\n",
       "      <td>Mumbai</td>\n",
       "      <td>2022-09-23</td>\n",
       "      <td>23</td>\n",
       "      <td>9</td>\n",
       "      <td>2022</td>\n",
       "      <td>Friday</td>\n",
       "      <td>September</td>\n",
       "    </tr>\n",
       "    <tr>\n",
       "      <th>2</th>\n",
       "      <td>Pia</td>\n",
       "      <td>Bachelor</td>\n",
       "      <td>Delhi</td>\n",
       "      <td>2021-12-02</td>\n",
       "      <td>2</td>\n",
       "      <td>12</td>\n",
       "      <td>2021</td>\n",
       "      <td>Thursday</td>\n",
       "      <td>December</td>\n",
       "    </tr>\n",
       "    <tr>\n",
       "      <th>3</th>\n",
       "      <td>Maya</td>\n",
       "      <td>PhD</td>\n",
       "      <td>Pune</td>\n",
       "      <td>2022-08-25</td>\n",
       "      <td>25</td>\n",
       "      <td>8</td>\n",
       "      <td>2022</td>\n",
       "      <td>Thursday</td>\n",
       "      <td>August</td>\n",
       "    </tr>\n",
       "    <tr>\n",
       "      <th>4</th>\n",
       "      <td>Kanika</td>\n",
       "      <td>Master</td>\n",
       "      <td>Bangalore</td>\n",
       "      <td>2022-01-07</td>\n",
       "      <td>7</td>\n",
       "      <td>1</td>\n",
       "      <td>2022</td>\n",
       "      <td>Friday</td>\n",
       "      <td>January</td>\n",
       "    </tr>\n",
       "    <tr>\n",
       "      <th>5</th>\n",
       "      <td>Mohan</td>\n",
       "      <td>PhD</td>\n",
       "      <td>Kerala</td>\n",
       "      <td>2022-12-26</td>\n",
       "      <td>26</td>\n",
       "      <td>12</td>\n",
       "      <td>2022</td>\n",
       "      <td>Monday</td>\n",
       "      <td>December</td>\n",
       "    </tr>\n",
       "  </tbody>\n",
       "</table>\n",
       "</div>"
      ],
      "text/plain": [
       "     Name    Degree       From Application_date  Day  Month  Year Day_of_week  \\\n",
       "0   Aisha    Master  Ahmedabad       2022-11-17   17     11  2022    Thursday   \n",
       "1   Vinod    Master     Mumbai       2022-09-23   23      9  2022      Friday   \n",
       "2     Pia  Bachelor      Delhi       2021-12-02    2     12  2021    Thursday   \n",
       "3    Maya       PhD       Pune       2022-08-25   25      8  2022    Thursday   \n",
       "4  Kanika    Master  Bangalore       2022-01-07    7      1  2022      Friday   \n",
       "5   Mohan       PhD     Kerala       2022-12-26   26     12  2022      Monday   \n",
       "\n",
       "  Month_of_year  \n",
       "0      November  \n",
       "1     September  \n",
       "2      December  \n",
       "3        August  \n",
       "4       January  \n",
       "5      December  "
      ]
     },
     "execution_count": 12,
     "metadata": {},
     "output_type": "execute_result"
    }
   ],
   "source": [
    "candidate_df"
   ]
  },
  {
   "cell_type": "markdown",
   "id": "b10ff9ec-5820-45f9-bf2a-984a64fbc79a",
   "metadata": {},
   "source": [
    "### Smallest and largest values of the column\n",
    "If you want to get the rows with the largest or lowest values for a given column :\n",
    "1. **df.nlargest(N, \"Col_Name\")** -> top N rows based on Col_Name\n",
    "2. **df.nsmallest(N, \"Col_Name\")** -> N smallest rows based on Col_Name\n",
    "\n",
    "Note : **Col_Name** is the name of the column you're interested in"
   ]
  },
  {
   "cell_type": "code",
   "execution_count": 19,
   "id": "32ee4250-bb92-44ae-9064-ffd32f392660",
   "metadata": {},
   "outputs": [],
   "source": [
    "student_info = {\n",
    "    'Name': [\"Arpit\", \"Aisha\", \"Pia\", \"Mohan\", \"Kanika\", \"Mansi\"],\n",
    "    'Degree': [\"MS\", \"Bachelor\", \"PhD\", \"Master\", \"BS\", \"Masters\"],\n",
    "    'From' : [\"Bangalore\", \"Mumbai\", \"Kerala\", \"Delhi\", \"Ahmedabad\", \"Pune\"],\n",
    "    'Age' : [26, 19, 30, 23, 24, 25]\n",
    "}\n",
    "\n",
    "student_data = pd.DataFrame(student_info)"
   ]
  },
  {
   "cell_type": "code",
   "execution_count": 20,
   "id": "9a51470d-9d17-4c00-bfbb-f87853b362b2",
   "metadata": {},
   "outputs": [
    {
     "data": {
      "text/html": [
       "<div>\n",
       "<style scoped>\n",
       "    .dataframe tbody tr th:only-of-type {\n",
       "        vertical-align: middle;\n",
       "    }\n",
       "\n",
       "    .dataframe tbody tr th {\n",
       "        vertical-align: top;\n",
       "    }\n",
       "\n",
       "    .dataframe thead th {\n",
       "        text-align: right;\n",
       "    }\n",
       "</style>\n",
       "<table border=\"1\" class=\"dataframe\">\n",
       "  <thead>\n",
       "    <tr style=\"text-align: right;\">\n",
       "      <th></th>\n",
       "      <th>Name</th>\n",
       "      <th>Degree</th>\n",
       "      <th>From</th>\n",
       "      <th>Age</th>\n",
       "    </tr>\n",
       "  </thead>\n",
       "  <tbody>\n",
       "    <tr>\n",
       "      <th>0</th>\n",
       "      <td>Arpit</td>\n",
       "      <td>MS</td>\n",
       "      <td>Bangalore</td>\n",
       "      <td>26</td>\n",
       "    </tr>\n",
       "    <tr>\n",
       "      <th>1</th>\n",
       "      <td>Aisha</td>\n",
       "      <td>Bachelor</td>\n",
       "      <td>Mumbai</td>\n",
       "      <td>19</td>\n",
       "    </tr>\n",
       "    <tr>\n",
       "      <th>2</th>\n",
       "      <td>Pia</td>\n",
       "      <td>PhD</td>\n",
       "      <td>Kerala</td>\n",
       "      <td>30</td>\n",
       "    </tr>\n",
       "    <tr>\n",
       "      <th>3</th>\n",
       "      <td>Mohan</td>\n",
       "      <td>Master</td>\n",
       "      <td>Delhi</td>\n",
       "      <td>23</td>\n",
       "    </tr>\n",
       "    <tr>\n",
       "      <th>4</th>\n",
       "      <td>Kanika</td>\n",
       "      <td>BS</td>\n",
       "      <td>Ahmedabad</td>\n",
       "      <td>24</td>\n",
       "    </tr>\n",
       "    <tr>\n",
       "      <th>5</th>\n",
       "      <td>Mansi</td>\n",
       "      <td>Masters</td>\n",
       "      <td>Pune</td>\n",
       "      <td>25</td>\n",
       "    </tr>\n",
       "  </tbody>\n",
       "</table>\n",
       "</div>"
      ],
      "text/plain": [
       "     Name    Degree       From  Age\n",
       "0   Arpit        MS  Bangalore   26\n",
       "1   Aisha  Bachelor     Mumbai   19\n",
       "2     Pia       PhD     Kerala   30\n",
       "3   Mohan    Master      Delhi   23\n",
       "4  Kanika        BS  Ahmedabad   24\n",
       "5   Mansi   Masters       Pune   25"
      ]
     },
     "execution_count": 20,
     "metadata": {},
     "output_type": "execute_result"
    }
   ],
   "source": [
    "student_data"
   ]
  },
  {
   "cell_type": "code",
   "execution_count": 21,
   "id": "cf5e6df4-5bb7-415b-a16b-d7e56664edf5",
   "metadata": {},
   "outputs": [
    {
     "data": {
      "text/html": [
       "<div>\n",
       "<style scoped>\n",
       "    .dataframe tbody tr th:only-of-type {\n",
       "        vertical-align: middle;\n",
       "    }\n",
       "\n",
       "    .dataframe tbody tr th {\n",
       "        vertical-align: top;\n",
       "    }\n",
       "\n",
       "    .dataframe thead th {\n",
       "        text-align: right;\n",
       "    }\n",
       "</style>\n",
       "<table border=\"1\" class=\"dataframe\">\n",
       "  <thead>\n",
       "    <tr style=\"text-align: right;\">\n",
       "      <th></th>\n",
       "      <th>Name</th>\n",
       "      <th>Degree</th>\n",
       "      <th>From</th>\n",
       "      <th>Age</th>\n",
       "    </tr>\n",
       "  </thead>\n",
       "  <tbody>\n",
       "    <tr>\n",
       "      <th>1</th>\n",
       "      <td>Aisha</td>\n",
       "      <td>Bachelor</td>\n",
       "      <td>Mumbai</td>\n",
       "      <td>19</td>\n",
       "    </tr>\n",
       "    <tr>\n",
       "      <th>3</th>\n",
       "      <td>Mohan</td>\n",
       "      <td>Master</td>\n",
       "      <td>Delhi</td>\n",
       "      <td>23</td>\n",
       "    </tr>\n",
       "    <tr>\n",
       "      <th>4</th>\n",
       "      <td>Kanika</td>\n",
       "      <td>BS</td>\n",
       "      <td>Ahmedabad</td>\n",
       "      <td>24</td>\n",
       "    </tr>\n",
       "  </tbody>\n",
       "</table>\n",
       "</div>"
      ],
      "text/plain": [
       "     Name    Degree       From  Age\n",
       "1   Aisha  Bachelor     Mumbai   19\n",
       "3   Mohan    Master      Delhi   23\n",
       "4  Kanika        BS  Ahmedabad   24"
      ]
     },
     "execution_count": 21,
     "metadata": {},
     "output_type": "execute_result"
    }
   ],
   "source": [
    "# 3 Youngest Students\n",
    "student_data.nsmallest(3, \"Age\")"
   ]
  },
  {
   "cell_type": "code",
   "execution_count": 22,
   "id": "14fcc711-5b13-4d97-b305-754933de6bad",
   "metadata": {},
   "outputs": [
    {
     "data": {
      "text/html": [
       "<div>\n",
       "<style scoped>\n",
       "    .dataframe tbody tr th:only-of-type {\n",
       "        vertical-align: middle;\n",
       "    }\n",
       "\n",
       "    .dataframe tbody tr th {\n",
       "        vertical-align: top;\n",
       "    }\n",
       "\n",
       "    .dataframe thead th {\n",
       "        text-align: right;\n",
       "    }\n",
       "</style>\n",
       "<table border=\"1\" class=\"dataframe\">\n",
       "  <thead>\n",
       "    <tr style=\"text-align: right;\">\n",
       "      <th></th>\n",
       "      <th>Name</th>\n",
       "      <th>Degree</th>\n",
       "      <th>From</th>\n",
       "      <th>Age</th>\n",
       "    </tr>\n",
       "  </thead>\n",
       "  <tbody>\n",
       "    <tr>\n",
       "      <th>2</th>\n",
       "      <td>Pia</td>\n",
       "      <td>PhD</td>\n",
       "      <td>Kerala</td>\n",
       "      <td>30</td>\n",
       "    </tr>\n",
       "    <tr>\n",
       "      <th>0</th>\n",
       "      <td>Arpit</td>\n",
       "      <td>MS</td>\n",
       "      <td>Bangalore</td>\n",
       "      <td>26</td>\n",
       "    </tr>\n",
       "    <tr>\n",
       "      <th>5</th>\n",
       "      <td>Mansi</td>\n",
       "      <td>Masters</td>\n",
       "      <td>Pune</td>\n",
       "      <td>25</td>\n",
       "    </tr>\n",
       "  </tbody>\n",
       "</table>\n",
       "</div>"
      ],
      "text/plain": [
       "    Name   Degree       From  Age\n",
       "2    Pia      PhD     Kerala   30\n",
       "0  Arpit       MS  Bangalore   26\n",
       "5  Mansi  Masters       Pune   25"
      ]
     },
     "execution_count": 22,
     "metadata": {},
     "output_type": "execute_result"
    }
   ],
   "source": [
    "# 3 Oldest Students\n",
    "student_data.nlargest(3, \"Age\")"
   ]
  },
  {
   "cell_type": "markdown",
   "id": "0fda554d-3ffa-4902-99c1-b118ec4cd6de",
   "metadata": {},
   "source": [
    "### Ignore the log output of the pip install command\n",
    "Sometimes when installing a library from your jupyter notebook, you might not want to have all the details about the installation process generated by default.\n",
    "\n",
    "**pip install** command\n",
    "\n",
    "You can specify the -q OR -quiet option to get rid of that information"
   ]
  },
  {
   "cell_type": "code",
   "execution_count": 23,
   "id": "99bbf468-5ace-4d12-9268-4a88f0151a2d",
   "metadata": {},
   "outputs": [],
   "source": [
    "!pip -q install spacy-transformers"
   ]
  },
  {
   "cell_type": "markdown",
   "id": "9a222966-0ab4-494c-829b-495c60a57a1c",
   "metadata": {},
   "source": [
    "### Run multiple commands in a single notebook cell\n",
    "\n",
    "Use **%%bash** expression at the beginning of the notebook"
   ]
  },
  {
   "cell_type": "markdown",
   "id": "ab872398-8897-45cf-8d73-f0ae89991cdd",
   "metadata": {},
   "source": [
    "### Virtual Environment\n",
    "\n",
    "One way of doing this is to use virtual environments\n",
    "\n",
    "1. Install the virtual environment module : **pip install virtualenv**\n",
    "\n",
    "2. Create your environment by giving a meaningful name : **virtualenv[your_environment_name]**\n",
    "\n",
    "3. Activate your environment : **source[your_environment_name]/bin/activate**\n",
    "\n",
    "4. Start installing the dependencies for your project : **pip install pandas**\n",
    "\n",
    "If you need to permanently save those dependencies in order to share them with others using this command:\n",
    "**pip freeze > requirements.txt\n",
    "\n",
    "This will create **requirements.txt** file containing your project dependencies.\n",
    "\n",
    "Finally anyone can install the exact same dependencies by running this command : **pip install -r requirements.txt**"
   ]
  },
  {
   "cell_type": "markdown",
   "id": "eee62dd8-df99-42d9-8065-6ae21264f289",
   "metadata": {},
   "source": [
    "### Run multiple metrics at once\n",
    "Scikit Learn metrics"
   ]
  },
  {
   "cell_type": "code",
   "execution_count": 24,
   "id": "f2c66fc8-24cc-4535-abbc-02cd70ca1106",
   "metadata": {},
   "outputs": [
    {
     "name": "stdout",
     "output_type": "stream",
     "text": [
      "Precision :  0.2222222222222222\n",
      "Recall :  0.3333333333333333\n",
      "F1 Score :  0.26666666666666666\n"
     ]
    }
   ],
   "source": [
    "# Individual Imports\n",
    "from sklearn.metrics import precision_score, recall_score, f1_score\n",
    "\n",
    "y_true = [0, 1, 2, 0, 1, 2]\n",
    "y_pred = [0, 2, 1, 0, 0, 1]\n",
    "\n",
    "print(\"Precision : \", precision_score(y_true, y_pred, average='macro'))\n",
    "print(\"Recall : \", recall_score(y_true, y_pred, average='macro'))\n",
    "print(\"F1 Score : \", f1_score(y_true, y_pred, average='macro'))"
   ]
  },
  {
   "cell_type": "code",
   "execution_count": 28,
   "id": "6885009d-ae85-431d-8819-fcbba8c01d68",
   "metadata": {},
   "outputs": [],
   "source": [
    "# Single Line Import \n",
    "from sklearn.metrics import precision_recall_fscore_support "
   ]
  },
  {
   "cell_type": "code",
   "execution_count": 29,
   "id": "a4dc3288-9c0b-4f81-9607-4319d03fbfd2",
   "metadata": {},
   "outputs": [],
   "source": [
    "precision, recall, f1_score, _ = precision_recall_fscore_support(y_true, \n",
    "                                                                 y_pred, \n",
    "                                                                 average='macro')"
   ]
  },
  {
   "cell_type": "code",
   "execution_count": 30,
   "id": "78911bed-5a44-4796-ba70-ef1fc11a2896",
   "metadata": {},
   "outputs": [
    {
     "name": "stdout",
     "output_type": "stream",
     "text": [
      "Precision: 0.2222222222222222\n",
      "Recall: 0.3333333333333333\n",
      "F1 Score: 0.26666666666666666\n"
     ]
    }
   ],
   "source": [
    "print(f\"Precision: {precision}\")\n",
    "print(f\"Recall: {recall}\")\n",
    "print(f\"F1 Score: {f1_score}\")"
   ]
  },
  {
   "cell_type": "markdown",
   "id": "44d8892c-e0ca-4087-9c2b-e7bb33a9ec74",
   "metadata": {},
   "source": [
    "### Chain multiple lists as a single sequence\n",
    "This can be achieved using the **chain**() function from Python **itertools** module"
   ]
  },
  {
   "cell_type": "code",
   "execution_count": 31,
   "id": "76252aa2-a88c-4898-ba22-019b17fe6c1c",
   "metadata": {},
   "outputs": [],
   "source": [
    "from itertools import chain"
   ]
  },
  {
   "cell_type": "code",
   "execution_count": 32,
   "id": "ec6797d9-552b-4df2-bf02-f1ccf5e6365d",
   "metadata": {},
   "outputs": [
    {
     "name": "stdout",
     "output_type": "stream",
     "text": [
      "LG\n",
      "Samsung\n",
      "Sony\n",
      "Newyork\n",
      "California\n",
      "Chicago\n"
     ]
    }
   ],
   "source": [
    "# List of clients\n",
    "clients = [\"LG\", \"Samsung\", \"Sony\"]\n",
    "place_of_interests = [\"Newyork\", \"California\", \"Chicago\"]\n",
    "\n",
    "# Iterate through the two lists at the same time\n",
    "for client in chain(clients, place_of_interests):\n",
    "    print(client)"
   ]
  },
  {
   "cell_type": "markdown",
   "id": "0711d420-e11b-4a4c-a290-cfc0dbdb1d05",
   "metadata": {},
   "source": [
    "### Pretty print of JSON data\n",
    "The indent parameter of the dumps() method can be used to specify the indentation level of your formatted string output."
   ]
  },
  {
   "cell_type": "code",
   "execution_count": 33,
   "id": "b7708e2d-4af8-4986-8817-b6b9e7e30f5f",
   "metadata": {},
   "outputs": [
    {
     "name": "stdout",
     "output_type": "stream",
     "text": [
      "[\n",
      "    {\n",
      "        \"Name\": \"Adrianne\",\n",
      "        \"Age\": 23,\n",
      "        \"Degrees\": [\n",
      "            \"Bachelor\",\n",
      "            \"Master\"\n",
      "        ]\n",
      "    },\n",
      "    {\n",
      "        \"Name\": \"Nalia\",\n",
      "        \"Age\": 28,\n",
      "        \"Degrees\": [\n",
      "            \"Bachelor\",\n",
      "            \"Master\",\n",
      "            \"PhD\"\n",
      "        ]\n",
      "    }\n",
      "]\n"
     ]
    }
   ],
   "source": [
    "# Import the library\n",
    "import json\n",
    "\n",
    "# Initialize the JSON data\n",
    "candidate_data = '[{\"Name\":\"Adrianne\", \"Age\":23, \\\n",
    "                    \"Degrees\":[\"Bachelor\", \"Master\"]},\\\n",
    "                    {\"Name\":\"Nalia\", \"Age\":28, \\\n",
    "                    \"Degrees\":[\"Bachelor\", \"Master\", \"PhD\"]}]'\n",
    "\n",
    "# Create Python object from JSON string\n",
    "candidate_Json = json.loads(candidate_data)\n",
    "\n",
    "# Print with indentation level of 4\n",
    "print(json.dumps(candidate_Json, indent = 4))"
   ]
  },
  {
   "cell_type": "markdown",
   "id": "48b2c5d5-87f9-4409-af83-fda0786b4728",
   "metadata": {},
   "source": [
    "### Unit-Testing\n",
    "Benefits :\n",
    "1. Better quality code\n",
    "2. Allows simpler and more agile code when adding new features\n",
    "3. Reduces cost by saving dev time and avoiding later stages of error discovery\n",
    "\n",
    "Use **unittest** to perform unit testing "
   ]
  },
  {
   "cell_type": "code",
   "execution_count": 34,
   "id": "ed4f7513-e601-42cf-8610-512bbcea6c35",
   "metadata": {},
   "outputs": [],
   "source": [
    "# Import the library\n",
    "import unittest\n",
    "\n",
    "# Function to test\n",
    "def product(a, b):\n",
    "    return a * b\n",
    "\n",
    "class TestProduct(unittest.TestCase):\n",
    "    # Implement the unit test\n",
    "    def test_product_two_variables(self):\n",
    "        self.assertNotEqual(16, product(4,3))"
   ]
  },
  {
   "cell_type": "markdown",
   "id": "dd147ef4-2182-424a-bd37-b9c84642f268",
   "metadata": {},
   "source": [
    "### Iterate over multiple lists\n",
    "Go to approach is the Python **zip** function"
   ]
  },
  {
   "cell_type": "code",
   "execution_count": 35,
   "id": "e1ff5aa4-ffbb-4e69-8a1c-78e2fbb20a2f",
   "metadata": {},
   "outputs": [
    {
     "name": "stdout",
     "output_type": "stream",
     "text": [
      "Sonia : Atlanta\n",
      "Kanika : Arizona\n",
      "Nalia : Chicago\n"
     ]
    }
   ],
   "source": [
    "# List of names\n",
    "names = [\"Sonia\", \"Kanika\", \"Nalia\"]\n",
    "\n",
    "# List of locations\n",
    "locations = [\"Atlanta\", \"Arizona\", \"Chicago\"]\n",
    "\n",
    "# Simultaneous iteration\n",
    "for name, location in zip(names, locations):\n",
    "    print(f'{name} : {location}')"
   ]
  },
  {
   "cell_type": "markdown",
   "id": "e63b7769-266b-4292-930f-2ff2c1137d11",
   "metadata": {},
   "source": [
    "### Alternative to nested for loops\n",
    "Use python built-in **product**() function instead."
   ]
  },
  {
   "cell_type": "code",
   "execution_count": 36,
   "id": "4fec5887-61aa-4a6a-b59d-e331f83b9965",
   "metadata": {},
   "outputs": [],
   "source": [
    "# Define the lists\n",
    "first_list = [4, 12, 6]\n",
    "second_list = [5, 2, 19]\n",
    "third_list = [7, 2, 3]"
   ]
  },
  {
   "cell_type": "code",
   "execution_count": 37,
   "id": "0c40c136-250e-42f2-8ab5-59394fbb98f3",
   "metadata": {},
   "outputs": [
    {
     "name": "stdout",
     "output_type": "stream",
     "text": [
      "1st: 4 2nd: 2 3rd:3\n",
      "1st: 6 2nd: 2 3rd:2\n"
     ]
    }
   ],
   "source": [
    "# Run the cartesian product\n",
    "## Method 1\n",
    "for fst in first_list:\n",
    "    for snd in second_list:\n",
    "        for trd in third_list:\n",
    "            if(fst * snd * trd == 24):\n",
    "                print(f'1st: {fst} 2nd: {snd} 3rd:{trd}')"
   ]
  },
  {
   "cell_type": "code",
   "execution_count": 40,
   "id": "0922a8d7-b31f-4a01-b47c-7bf5fa422f5b",
   "metadata": {},
   "outputs": [
    {
     "name": "stdout",
     "output_type": "stream",
     "text": [
      "1st: 4 2nd: 2 3rd:3\n",
      "1st: 6 2nd: 2 3rd:2\n"
     ]
    }
   ],
   "source": [
    "# Run the cartesian product\n",
    "## Method 2\n",
    "from itertools import product\n",
    "for fst, snd, trd in product(first_list, second_list, third_list):\n",
    "    if(fst * snd * trd == 24):\n",
    "        print(f'1st: {fst} 2nd: {snd} 3rd:{trd}')"
   ]
  },
  {
   "cell_type": "markdown",
   "id": "756ad800-f72c-47d7-8f52-3dafaacb6b61",
   "metadata": {},
   "source": [
    "### Text preprocessing made easy\n",
    "How many functions or regular expressions do you have to write to perform basic text processing tasks like :\n",
    "\n",
    "1. Fixing Unicode\n",
    "2. Removing URLs\n",
    "3. Getting rid of digits, punctuation, etc?\n",
    "\n",
    "Those tasks are not only time-consuming but may also result in complexity depending on the text\n",
    "\n",
    "Using the **clean-text** Python library can take away all that burden"
   ]
  },
  {
   "cell_type": "code",
   "execution_count": 63,
   "id": "1dde4cd7-1fe9-4397-b1c0-8c913e1b020e",
   "metadata": {},
   "outputs": [
    {
     "name": "stdout",
     "output_type": "stream",
     "text": [
      "httpswwwyoutubecomdatainterviewpro emma ding teach machin learn youtub channel emma ding also written articl medium check link\n"
     ]
    }
   ],
   "source": [
    "from cleantext import clean\n",
    "\n",
    "info = ''' \"https://www.youtube.com/@DataInterviewPro\"\n",
    "Emma Ding teaches Machine Learning on her YouTube \n",
    "channel Emma Ding \n",
    "Also, she has written more than 10 articles on Medium. \n",
    "Check the links below. '''\n",
    "\n",
    "cleaned_text = clean(info)\n",
    "\n",
    "print(cleaned_text)"
   ]
  }
 ],
 "metadata": {
  "kernelspec": {
   "display_name": "Python 3 (ipykernel)",
   "language": "python",
   "name": "python3"
  },
  "language_info": {
   "codemirror_mode": {
    "name": "ipython",
    "version": 3
   },
   "file_extension": ".py",
   "mimetype": "text/x-python",
   "name": "python",
   "nbconvert_exporter": "python",
   "pygments_lexer": "ipython3",
   "version": "3.9.7"
  }
 },
 "nbformat": 4,
 "nbformat_minor": 5
}
